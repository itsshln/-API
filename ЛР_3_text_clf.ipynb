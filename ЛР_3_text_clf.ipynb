{
  "cells": [
    {
      "cell_type": "markdown",
      "metadata": {
        "id": "9nD1Sa8xauOU"
      },
      "source": [
        "# Юридическая классификация текстов цитат\n",
        "Этот набор данных содержит австралийские судебные дела из Федерального суда Австралии (FCA). Дела были загружены из AustLII. Включены все дела за 2006, 2007, 2008 и 2009 годы. Для каждого документа собраны крылатые фразы, предложения цитат, крылатые фразы цитат и классы цитат. Классы цитат указаны в документе и указывают тип обработки, предоставленной случаям, цитируемым в настоящем деле."
      ]
    },
    {
      "cell_type": "code",
      "execution_count": 17,
      "metadata": {
        "colab": {
          "base_uri": "https://localhost:8080/"
        },
        "id": "elTzyxFdFXVv",
        "outputId": "383b2349-013c-4894-e2f7-9560f5805e28"
      },
      "outputs": [
        {
          "output_type": "stream",
          "name": "stderr",
          "text": [
            "[nltk_data] Downloading package wordnet to /root/nltk_data...\n",
            "[nltk_data]   Package wordnet is already up-to-date!\n",
            "[nltk_data] Downloading package stopwords to /root/nltk_data...\n",
            "[nltk_data]   Package stopwords is already up-to-date!\n",
            "[nltk_data] Downloading package punkt to /root/nltk_data...\n",
            "[nltk_data]   Package punkt is already up-to-date!\n",
            "[nltk_data] Downloading package punkt_tab to /root/nltk_data...\n",
            "[nltk_data]   Package punkt_tab is already up-to-date!\n"
          ]
        },
        {
          "output_type": "execute_result",
          "data": {
            "text/plain": [
              "True"
            ]
          },
          "metadata": {},
          "execution_count": 17
        }
      ],
      "source": [
        "import pandas as pd\n",
        "import numpy as np\n",
        "import nltk\n",
        "from nltk.stem import WordNetLemmatizer\n",
        "import re\n",
        "from nltk.corpus import stopwords\n",
        "from nltk.tokenize import word_tokenize\n",
        "import spacy\n",
        "import plotly.graph_objs as go\n",
        "nltk.download('wordnet')\n",
        "nltk.download('stopwords')\n",
        "nltk.download('punkt')\n",
        "nltk.download('punkt_tab')"
      ]
    },
    {
      "cell_type": "code",
      "execution_count": 18,
      "metadata": {
        "colab": {
          "base_uri": "https://localhost:8080/",
          "height": 424
        },
        "id": "rqubB9SI6gps",
        "outputId": "33c9d071-50aa-4ae7-c293-1d0b845c07ba"
      },
      "outputs": [
        {
          "output_type": "execute_result",
          "data": {
            "text/plain": [
              "         case_id   case_outcome  \\\n",
              "0          Case1          cited   \n",
              "1          Case2          cited   \n",
              "2          Case3          cited   \n",
              "3          Case4          cited   \n",
              "4          Case5          cited   \n",
              "...          ...            ...   \n",
              "24980  Case25203          cited   \n",
              "24981  Case25204          cited   \n",
              "24982  Case25205          cited   \n",
              "24983  Case25206  distinguished   \n",
              "24984  Case25207  distinguished   \n",
              "\n",
              "                                              case_title  \\\n",
              "0      Alpine Hardwood (Aust) Pty Ltd v Hardys Pty Lt...   \n",
              "1      Black v Lipovac [1998] FCA 699 ; (1998) 217 AL...   \n",
              "2      Colgate Palmolive Co v Cussons Pty Ltd (1993) ...   \n",
              "3      Dais Studio Pty Ltd v Bullett Creative Pty Ltd...   \n",
              "4      Dr Martens Australia Pty Ltd v Figgins Holding...   \n",
              "...                                                  ...   \n",
              "24980  Reches Pty Ltd v Tadiran Pty Ltd (1998) 85 FCR...   \n",
              "24981  Sir Lindsay Parkinson &amp; Co Ltd v Triplan L...   \n",
              "24982  Spiel v Commodity Brokers Australia Pty Ltd (I...   \n",
              "24983  Tullock Ltd v Walker (Unreported, Supreme Cour...   \n",
              "24984  Yandil Holdings Pty Ltd v Insurance Co of Nort...   \n",
              "\n",
              "                                               case_text  \n",
              "0      Ordinarily that discretion will be exercised s...  \n",
              "1      The general principles governing the exercise ...  \n",
              "2      Ordinarily that discretion will be exercised s...  \n",
              "3      The general principles governing the exercise ...  \n",
              "4      The preceding general principles inform the ex...  \n",
              "...                                                  ...  \n",
              "24980  That is not confined to persons who control th...  \n",
              "24981  Once the threshold prescribed by s 1335 is sat...  \n",
              "24982  Once the threshold prescribed by s 1335 is sat...  \n",
              "24983  Given the extent to which Deumer stands to gai...  \n",
              "24984  In my view, it is clear that the Court may do ...  \n",
              "\n",
              "[24985 rows x 4 columns]"
            ],
            "text/html": [
              "\n",
              "  <div id=\"df-e09e12c2-e751-4600-b38e-adab6d00d5bd\" class=\"colab-df-container\">\n",
              "    <div>\n",
              "<style scoped>\n",
              "    .dataframe tbody tr th:only-of-type {\n",
              "        vertical-align: middle;\n",
              "    }\n",
              "\n",
              "    .dataframe tbody tr th {\n",
              "        vertical-align: top;\n",
              "    }\n",
              "\n",
              "    .dataframe thead th {\n",
              "        text-align: right;\n",
              "    }\n",
              "</style>\n",
              "<table border=\"1\" class=\"dataframe\">\n",
              "  <thead>\n",
              "    <tr style=\"text-align: right;\">\n",
              "      <th></th>\n",
              "      <th>case_id</th>\n",
              "      <th>case_outcome</th>\n",
              "      <th>case_title</th>\n",
              "      <th>case_text</th>\n",
              "    </tr>\n",
              "  </thead>\n",
              "  <tbody>\n",
              "    <tr>\n",
              "      <th>0</th>\n",
              "      <td>Case1</td>\n",
              "      <td>cited</td>\n",
              "      <td>Alpine Hardwood (Aust) Pty Ltd v Hardys Pty Lt...</td>\n",
              "      <td>Ordinarily that discretion will be exercised s...</td>\n",
              "    </tr>\n",
              "    <tr>\n",
              "      <th>1</th>\n",
              "      <td>Case2</td>\n",
              "      <td>cited</td>\n",
              "      <td>Black v Lipovac [1998] FCA 699 ; (1998) 217 AL...</td>\n",
              "      <td>The general principles governing the exercise ...</td>\n",
              "    </tr>\n",
              "    <tr>\n",
              "      <th>2</th>\n",
              "      <td>Case3</td>\n",
              "      <td>cited</td>\n",
              "      <td>Colgate Palmolive Co v Cussons Pty Ltd (1993) ...</td>\n",
              "      <td>Ordinarily that discretion will be exercised s...</td>\n",
              "    </tr>\n",
              "    <tr>\n",
              "      <th>3</th>\n",
              "      <td>Case4</td>\n",
              "      <td>cited</td>\n",
              "      <td>Dais Studio Pty Ltd v Bullett Creative Pty Ltd...</td>\n",
              "      <td>The general principles governing the exercise ...</td>\n",
              "    </tr>\n",
              "    <tr>\n",
              "      <th>4</th>\n",
              "      <td>Case5</td>\n",
              "      <td>cited</td>\n",
              "      <td>Dr Martens Australia Pty Ltd v Figgins Holding...</td>\n",
              "      <td>The preceding general principles inform the ex...</td>\n",
              "    </tr>\n",
              "    <tr>\n",
              "      <th>...</th>\n",
              "      <td>...</td>\n",
              "      <td>...</td>\n",
              "      <td>...</td>\n",
              "      <td>...</td>\n",
              "    </tr>\n",
              "    <tr>\n",
              "      <th>24980</th>\n",
              "      <td>Case25203</td>\n",
              "      <td>cited</td>\n",
              "      <td>Reches Pty Ltd v Tadiran Pty Ltd (1998) 85 FCR...</td>\n",
              "      <td>That is not confined to persons who control th...</td>\n",
              "    </tr>\n",
              "    <tr>\n",
              "      <th>24981</th>\n",
              "      <td>Case25204</td>\n",
              "      <td>cited</td>\n",
              "      <td>Sir Lindsay Parkinson &amp;amp; Co Ltd v Triplan L...</td>\n",
              "      <td>Once the threshold prescribed by s 1335 is sat...</td>\n",
              "    </tr>\n",
              "    <tr>\n",
              "      <th>24982</th>\n",
              "      <td>Case25205</td>\n",
              "      <td>cited</td>\n",
              "      <td>Spiel v Commodity Brokers Australia Pty Ltd (I...</td>\n",
              "      <td>Once the threshold prescribed by s 1335 is sat...</td>\n",
              "    </tr>\n",
              "    <tr>\n",
              "      <th>24983</th>\n",
              "      <td>Case25206</td>\n",
              "      <td>distinguished</td>\n",
              "      <td>Tullock Ltd v Walker (Unreported, Supreme Cour...</td>\n",
              "      <td>Given the extent to which Deumer stands to gai...</td>\n",
              "    </tr>\n",
              "    <tr>\n",
              "      <th>24984</th>\n",
              "      <td>Case25207</td>\n",
              "      <td>distinguished</td>\n",
              "      <td>Yandil Holdings Pty Ltd v Insurance Co of Nort...</td>\n",
              "      <td>In my view, it is clear that the Court may do ...</td>\n",
              "    </tr>\n",
              "  </tbody>\n",
              "</table>\n",
              "<p>24985 rows × 4 columns</p>\n",
              "</div>\n",
              "    <div class=\"colab-df-buttons\">\n",
              "\n",
              "  <div class=\"colab-df-container\">\n",
              "    <button class=\"colab-df-convert\" onclick=\"convertToInteractive('df-e09e12c2-e751-4600-b38e-adab6d00d5bd')\"\n",
              "            title=\"Convert this dataframe to an interactive table.\"\n",
              "            style=\"display:none;\">\n",
              "\n",
              "  <svg xmlns=\"http://www.w3.org/2000/svg\" height=\"24px\" viewBox=\"0 -960 960 960\">\n",
              "    <path d=\"M120-120v-720h720v720H120Zm60-500h600v-160H180v160Zm220 220h160v-160H400v160Zm0 220h160v-160H400v160ZM180-400h160v-160H180v160Zm440 0h160v-160H620v160ZM180-180h160v-160H180v160Zm440 0h160v-160H620v160Z\"/>\n",
              "  </svg>\n",
              "    </button>\n",
              "\n",
              "  <style>\n",
              "    .colab-df-container {\n",
              "      display:flex;\n",
              "      gap: 12px;\n",
              "    }\n",
              "\n",
              "    .colab-df-convert {\n",
              "      background-color: #E8F0FE;\n",
              "      border: none;\n",
              "      border-radius: 50%;\n",
              "      cursor: pointer;\n",
              "      display: none;\n",
              "      fill: #1967D2;\n",
              "      height: 32px;\n",
              "      padding: 0 0 0 0;\n",
              "      width: 32px;\n",
              "    }\n",
              "\n",
              "    .colab-df-convert:hover {\n",
              "      background-color: #E2EBFA;\n",
              "      box-shadow: 0px 1px 2px rgba(60, 64, 67, 0.3), 0px 1px 3px 1px rgba(60, 64, 67, 0.15);\n",
              "      fill: #174EA6;\n",
              "    }\n",
              "\n",
              "    .colab-df-buttons div {\n",
              "      margin-bottom: 4px;\n",
              "    }\n",
              "\n",
              "    [theme=dark] .colab-df-convert {\n",
              "      background-color: #3B4455;\n",
              "      fill: #D2E3FC;\n",
              "    }\n",
              "\n",
              "    [theme=dark] .colab-df-convert:hover {\n",
              "      background-color: #434B5C;\n",
              "      box-shadow: 0px 1px 3px 1px rgba(0, 0, 0, 0.15);\n",
              "      filter: drop-shadow(0px 1px 2px rgba(0, 0, 0, 0.3));\n",
              "      fill: #FFFFFF;\n",
              "    }\n",
              "  </style>\n",
              "\n",
              "    <script>\n",
              "      const buttonEl =\n",
              "        document.querySelector('#df-e09e12c2-e751-4600-b38e-adab6d00d5bd button.colab-df-convert');\n",
              "      buttonEl.style.display =\n",
              "        google.colab.kernel.accessAllowed ? 'block' : 'none';\n",
              "\n",
              "      async function convertToInteractive(key) {\n",
              "        const element = document.querySelector('#df-e09e12c2-e751-4600-b38e-adab6d00d5bd');\n",
              "        const dataTable =\n",
              "          await google.colab.kernel.invokeFunction('convertToInteractive',\n",
              "                                                    [key], {});\n",
              "        if (!dataTable) return;\n",
              "\n",
              "        const docLinkHtml = 'Like what you see? Visit the ' +\n",
              "          '<a target=\"_blank\" href=https://colab.research.google.com/notebooks/data_table.ipynb>data table notebook</a>'\n",
              "          + ' to learn more about interactive tables.';\n",
              "        element.innerHTML = '';\n",
              "        dataTable['output_type'] = 'display_data';\n",
              "        await google.colab.output.renderOutput(dataTable, element);\n",
              "        const docLink = document.createElement('div');\n",
              "        docLink.innerHTML = docLinkHtml;\n",
              "        element.appendChild(docLink);\n",
              "      }\n",
              "    </script>\n",
              "  </div>\n",
              "\n",
              "\n",
              "    <div id=\"df-ef40bab6-2cb7-4f6f-88bf-c8a2ce0b4541\">\n",
              "      <button class=\"colab-df-quickchart\" onclick=\"quickchart('df-ef40bab6-2cb7-4f6f-88bf-c8a2ce0b4541')\"\n",
              "                title=\"Suggest charts\"\n",
              "                style=\"display:none;\">\n",
              "\n",
              "<svg xmlns=\"http://www.w3.org/2000/svg\" height=\"24px\"viewBox=\"0 0 24 24\"\n",
              "     width=\"24px\">\n",
              "    <g>\n",
              "        <path d=\"M19 3H5c-1.1 0-2 .9-2 2v14c0 1.1.9 2 2 2h14c1.1 0 2-.9 2-2V5c0-1.1-.9-2-2-2zM9 17H7v-7h2v7zm4 0h-2V7h2v10zm4 0h-2v-4h2v4z\"/>\n",
              "    </g>\n",
              "</svg>\n",
              "      </button>\n",
              "\n",
              "<style>\n",
              "  .colab-df-quickchart {\n",
              "      --bg-color: #E8F0FE;\n",
              "      --fill-color: #1967D2;\n",
              "      --hover-bg-color: #E2EBFA;\n",
              "      --hover-fill-color: #174EA6;\n",
              "      --disabled-fill-color: #AAA;\n",
              "      --disabled-bg-color: #DDD;\n",
              "  }\n",
              "\n",
              "  [theme=dark] .colab-df-quickchart {\n",
              "      --bg-color: #3B4455;\n",
              "      --fill-color: #D2E3FC;\n",
              "      --hover-bg-color: #434B5C;\n",
              "      --hover-fill-color: #FFFFFF;\n",
              "      --disabled-bg-color: #3B4455;\n",
              "      --disabled-fill-color: #666;\n",
              "  }\n",
              "\n",
              "  .colab-df-quickchart {\n",
              "    background-color: var(--bg-color);\n",
              "    border: none;\n",
              "    border-radius: 50%;\n",
              "    cursor: pointer;\n",
              "    display: none;\n",
              "    fill: var(--fill-color);\n",
              "    height: 32px;\n",
              "    padding: 0;\n",
              "    width: 32px;\n",
              "  }\n",
              "\n",
              "  .colab-df-quickchart:hover {\n",
              "    background-color: var(--hover-bg-color);\n",
              "    box-shadow: 0 1px 2px rgba(60, 64, 67, 0.3), 0 1px 3px 1px rgba(60, 64, 67, 0.15);\n",
              "    fill: var(--button-hover-fill-color);\n",
              "  }\n",
              "\n",
              "  .colab-df-quickchart-complete:disabled,\n",
              "  .colab-df-quickchart-complete:disabled:hover {\n",
              "    background-color: var(--disabled-bg-color);\n",
              "    fill: var(--disabled-fill-color);\n",
              "    box-shadow: none;\n",
              "  }\n",
              "\n",
              "  .colab-df-spinner {\n",
              "    border: 2px solid var(--fill-color);\n",
              "    border-color: transparent;\n",
              "    border-bottom-color: var(--fill-color);\n",
              "    animation:\n",
              "      spin 1s steps(1) infinite;\n",
              "  }\n",
              "\n",
              "  @keyframes spin {\n",
              "    0% {\n",
              "      border-color: transparent;\n",
              "      border-bottom-color: var(--fill-color);\n",
              "      border-left-color: var(--fill-color);\n",
              "    }\n",
              "    20% {\n",
              "      border-color: transparent;\n",
              "      border-left-color: var(--fill-color);\n",
              "      border-top-color: var(--fill-color);\n",
              "    }\n",
              "    30% {\n",
              "      border-color: transparent;\n",
              "      border-left-color: var(--fill-color);\n",
              "      border-top-color: var(--fill-color);\n",
              "      border-right-color: var(--fill-color);\n",
              "    }\n",
              "    40% {\n",
              "      border-color: transparent;\n",
              "      border-right-color: var(--fill-color);\n",
              "      border-top-color: var(--fill-color);\n",
              "    }\n",
              "    60% {\n",
              "      border-color: transparent;\n",
              "      border-right-color: var(--fill-color);\n",
              "    }\n",
              "    80% {\n",
              "      border-color: transparent;\n",
              "      border-right-color: var(--fill-color);\n",
              "      border-bottom-color: var(--fill-color);\n",
              "    }\n",
              "    90% {\n",
              "      border-color: transparent;\n",
              "      border-bottom-color: var(--fill-color);\n",
              "    }\n",
              "  }\n",
              "</style>\n",
              "\n",
              "      <script>\n",
              "        async function quickchart(key) {\n",
              "          const quickchartButtonEl =\n",
              "            document.querySelector('#' + key + ' button');\n",
              "          quickchartButtonEl.disabled = true;  // To prevent multiple clicks.\n",
              "          quickchartButtonEl.classList.add('colab-df-spinner');\n",
              "          try {\n",
              "            const charts = await google.colab.kernel.invokeFunction(\n",
              "                'suggestCharts', [key], {});\n",
              "          } catch (error) {\n",
              "            console.error('Error during call to suggestCharts:', error);\n",
              "          }\n",
              "          quickchartButtonEl.classList.remove('colab-df-spinner');\n",
              "          quickchartButtonEl.classList.add('colab-df-quickchart-complete');\n",
              "        }\n",
              "        (() => {\n",
              "          let quickchartButtonEl =\n",
              "            document.querySelector('#df-ef40bab6-2cb7-4f6f-88bf-c8a2ce0b4541 button');\n",
              "          quickchartButtonEl.style.display =\n",
              "            google.colab.kernel.accessAllowed ? 'block' : 'none';\n",
              "        })();\n",
              "      </script>\n",
              "    </div>\n",
              "    </div>\n",
              "  </div>\n"
            ],
            "application/vnd.google.colaboratory.intrinsic+json": {
              "type": "dataframe",
              "variable_name": "text",
              "summary": "{\n  \"name\": \"text\",\n  \"rows\": 24985,\n  \"fields\": [\n    {\n      \"column\": \"case_id\",\n      \"properties\": {\n        \"dtype\": \"string\",\n        \"num_unique_values\": 24985,\n        \"samples\": [\n          \"Case15689\",\n          \"Case9347\",\n          \"Case8483\"\n        ],\n        \"semantic_type\": \"\",\n        \"description\": \"\"\n      }\n    },\n    {\n      \"column\": \"case_outcome\",\n      \"properties\": {\n        \"dtype\": \"category\",\n        \"num_unique_values\": 10,\n        \"samples\": [\n          \"affirmed\",\n          \"applied\",\n          \"considered\"\n        ],\n        \"semantic_type\": \"\",\n        \"description\": \"\"\n      }\n    },\n    {\n      \"column\": \"case_title\",\n      \"properties\": {\n        \"dtype\": \"string\",\n        \"num_unique_values\": 18581,\n        \"samples\": [\n          \"SZMDG v Minister for Immigration and Anor [2008] FMCA 1075\",\n          \"Venus Adult Shops Pty Ltd and Others v Fraserside Holdings Ltd and Another [2006] FCAFC 188 ; (2006) 157 FCR 442\",\n          \"CPSU v Telstra Corporation Ltd [2001] FCA 267 ; (2001) 107 FCR 93 \"\n        ],\n        \"semantic_type\": \"\",\n        \"description\": \"\"\n      }\n    },\n    {\n      \"column\": \"case_text\",\n      \"properties\": {\n        \"dtype\": \"string\",\n        \"num_unique_values\": 17920,\n        \"samples\": [\n          \"need not recount in further detail the claims of estoppel, unfairness and waiver. In relation to \\\"substantive unfairness\\\", the applicants cite R v Inland Revenue Commissioner; Ex parte Preston [1984] UKHL 5 ; [1985] AC 835 at 866 7 (Templeman LJ) (for the principle that judicial review may be warranted where a commissioner's decision is unfair and amounting to a breach of contract or breach of representation, and therefore within the ambit of an abuse of power). They acknowledge the note of caution in relation to this principle that was sounded by Lehane J in Daihatsu Australia Pty Ltd v Deputy Commissioner of Taxation (2001) 182 ALR 239 (\\\" Daihatsu \\\") at [51] (that note of caution being that such a principle has not been the subject of extended consideration by Australian courts), but say that at the trial, they will submit that the principles of administrative law in Australia are developing to take account of a form of doctrine of substantive unfairness of the kind described by Lord Templeman. REASONING Order 20 of the FCRs and s 31A of the FCA Act Deloitte and Daihatsu concerned notices issued by the Commissioner under s 264 of the ITAA. In Deloitte , Goldberg J (at 451) expressed the opinion, and the Commissioner did not dispute, that the Commissioner's delegate was bound to have regard to the Guidelines when deciding to issue a notice under s 264. His Honour said that for this reason it was not necessary for him to deal with the Commissioner's submission that the Guidelines were not a source of rights. In Daihatsu , the taxpayer sought relief under s 16 of the AD(JR) Act and s 39B of the Judiciary Act in respect of notices issued under s 264 of the ITAA. Lehane J (at [68]) refused relief on the merits.\",\n          \"The Bankruptcy Act , it must nevertheless be accepted, confers no entitlement to trial by jury: Hubner v Australia and New Zealand Banking Group Ltd [1999] FCA 385 , 88 FCR 445. Cooper, Kiefel and Tamberlin JJ were there addressing s 30(3) of the 1966 Act, and not s 30(1)(i), but relevantly concluded: Jury [27] Mr and Mrs Hubner also say that the bankruptcy proceedings should be heard with a jury pursuant to s30(3) of the Act. That provision reads: \\\"(3) If in a proceeding before the Court under this Act a question of fact arises that a party desires to have trial before a jury, the Court may, if it thinks fit, direct the trial to that question to be had before a jury, and the trial may be had accordingly in the same manner as if it were the trail of an issue of fact in an action.\\\" [28] The appellants say that it is a civil right of all Queenslanders to have a trial by jury under s30(3). [29] In view of the approach taken by his Honour, which we consider to be correct, the question of a jury trial does not arise; so we do not accept the applicants' submissions in relation to this matter. Moreover, there was no relevant question of fact raised for a jury to determine. The Court under s30(3) has a wide discretion and there is no entitlement to a jury trial given by the section. We are not persuaded, given the necessity for a clear case of error to be shown on a matter of principle that there is any justification for ordering a jury trial in the present case. We see no error on the part of his Honour. Section 30(3) is not beyond the legislative competence of Commonwealth Parliament and is not invalid because of any unfounded assertion that it \\\" undermines or perverts \\\" the Constitution : Commonwealth Bank of Australia v Heinrich [2000] FCA 1255 at [18] [25] per Mansfield J. Nor is there any entitlement to trial by jury arising by reason of either some \\\" unwritten law \\\" such as natural justice or by reason of Schedule 2 to the Human Rights and Equal Opportunity Commission Act 1986 (Cth): Hubner v ANZ Banking Group Ltd [2000] FCA 140 at [9] [10], [2000] FCA 140 ; 101 FCR 71 at 73 per Drummond, Dowsett and Katz JJ.\",\n          \"The Tribunal found that \\\"it is difficult to consider a commercial funeral business as having an objective of the advancement of religion\\\" and that \\\"the business was a commercial operation for the purpose of making a commercial profit\\\" . The Tribunal relied on the decision of Priestley JA (with whom McHugh JA agreed) in Glebe Administration Board v Commissioner of Pay-roll Tax (1987) 10 NSWLR 352, where his Honour said, at 365: \\\"In my opinion the Board was not at any relevant time a religious institution. It was a statutory corporation doing commercial work within limitations fixed by reference to religious principles. It was staffed by persons who wished to observe the religious principles giving rise to the limitations on the Board's commercial activities. The property in its ownership both increased in value and gave rise to revenue. Capital was held for the benefit of a religious institution and large amounts of revenue were handed over to that institution. To my mind all these matters result in it being accurate to describe the Board as a legal entity working in a commercial area, guiding its commercial conduct by the principles of a religious institution and, in ordinary language, working for that religious institution. I do not think that this legal entity can either by an ordinary or a technical use of language be accurately called a religious institution.\\\" 57 This case does not aid the Commissioner. Its facts are distinguishable from the present case. It concerned a statutory body exercising property ownership and investment powers given to it by statute. The Board was required by statute to hold and invest church property and to deal with any proceeds. Its purposes were thus defined by statute. This is to be contrasted with Word, which is an independent organisation which has chosen to apply funds that it raises to Wycliffe and other religious bodies. The Board's manner of operation was also different from Word's. It lent money for short terms at commercial interest rates and applied funds for church activities generally, rather than the specific activities supported by Word. Finally, the Board claimed to be a religious institution not, as in the present case, a charitable institution. Word concedes that it cannot be a religious institution. 58 In my view, in concluding that the running of a funeral business could not advance religion, the Tribunal fell into two errors. The first was to consider the funeral business in isolation from the remainder of Word's operations. There was no evidence to suggest that, from the commencement of Bethel Funerals, Word ceased receiving money from investors. The entity claiming to be a charitable organisation is Word, not the Bethel Funerals operations of Word. Word's activities as a whole must be considered when determining whether its purposes were charitable. 59 When such a consideration is undertaken, the second error becomes clear. Word's purposes as a whole were to raise money for provision to Wycliffe and similar organisations. This was true both before and after the establishment of Bethel Funerals. It was only the manner of raising the money that changed; the purpose for doing it remained the same. The Tribunal's error appears to have involved drawing an unwarranted distinction between active and passive investment. It seems to have assumed that it may be charitable for an organisation to receive funds from investors who may or may not have been encouraged to support its goals and ideals, but that it cannot be charitable for the organisation to actively establish a business to derive similar income. 60 The Tribunal's distinction is at odds with the practice of contemporary charitable organisations. With the decline of the welfare state, charitable organisations are expected to do more with the same resources. Reliance on donations alone will, in many cases, be insufficient. Hence many charitable organisations have established business ventures to generate the income necessary to support their activities. There may appear to be a vast difference between selling lamingtons at a church f&ecirc;te and selling funeral services, but where the object of raising the funds is the same, I can no see no reason to draw a legal distinction between the two. I again refer in this connection to the cases referred to at [33]-[35]. 61 It follows that, for the period from 1 July 2000 to 1 July 2002, Word was a charitable institution under item 1.1 of the table at s 50-5 of the Act and is entitled to endorsement accordingly. The cross-appeal is therefore allowed. Word's alternative argument that its articles and memorandum of association created an instrument of trust need not be considered. 62 As set out above at [16], Word established the Foundation from 1 July 2002 to carry on the business of Bethel Funerals. This effected a significant change from the position prior to that date, when Bethel Funerals was merely a part of Word rather than run through a separate legal entity. The Tribunal held that \\\"the activities after 1 July 2002, being the same as those prior to 1996, entitle [Word] to endorsement as a charitable institution from that date.\\\"\"\n        ],\n        \"semantic_type\": \"\",\n        \"description\": \"\"\n      }\n    }\n  ]\n}"
            }
          },
          "metadata": {},
          "execution_count": 18
        }
      ],
      "source": [
        "# Загрузка данных\n",
        "text = pd.read_csv('/content/legal_text_classification.csv')\n",
        "text"
      ]
    },
    {
      "cell_type": "code",
      "execution_count": 19,
      "metadata": {
        "colab": {
          "base_uri": "https://localhost:8080/"
        },
        "id": "N0kqQ5ebGE45",
        "outputId": "3896ca8e-e400-471d-c867-0c43153c2774"
      },
      "outputs": [
        {
          "output_type": "execute_result",
          "data": {
            "text/plain": [
              "array(['cited', 'applied', 'followed', 'referred to', 'related',\n",
              "       'considered', 'discussed', 'distinguished', 'affirmed', 'approved'],\n",
              "      dtype=object)"
            ]
          },
          "metadata": {},
          "execution_count": 19
        }
      ],
      "source": [
        "text['case_outcome'].unique()"
      ]
    },
    {
      "cell_type": "markdown",
      "metadata": {
        "id": "awpAtP1KcAqA"
      },
      "source": [
        "'цитируется', 'применяется', 'следует', 'ссылается', 'связано', 'рассмотрено', 'обсуждается', 'выделено', 'подтверждено', 'одобрено'"
      ]
    },
    {
      "cell_type": "code",
      "execution_count": 20,
      "metadata": {
        "id": "HfV9phiCGKGF"
      },
      "outputs": [],
      "source": [
        "# Нормализация и лемматизация\n",
        "lemmatizer = WordNetLemmatizer()\n",
        "\n",
        "def normal_text(text):\n",
        "  if isinstance(text, str):  # Проверка, является ли текст строкой\n",
        "      text = re.sub(r'\\W+', ' ', text)  # Удаление специальных символов\n",
        "      text = text.lower()  # Приведение к нижнему регистру\n",
        "      words = nltk.word_tokenize(text)  # Токенизация\n",
        "      lemmatized_words = [lemmatizer.lemmatize(word) for word in words]  # Лемматизация\n",
        "      return ' '.join(lemmatized_words)\n",
        "  else:\n",
        "      return ''  # Возвращаем пустую строку для нестроковых значений\n",
        "\n",
        "text['normal_text'] = text['case_text'].apply(normal_text)"
      ]
    },
    {
      "cell_type": "code",
      "execution_count": 21,
      "metadata": {
        "colab": {
          "base_uri": "https://localhost:8080/",
          "height": 458
        },
        "id": "tY99vi1rGMiF",
        "outputId": "4c315293-ad80-4ec5-dd2a-2f7413c72a1f"
      },
      "outputs": [
        {
          "output_type": "execute_result",
          "data": {
            "text/plain": [
              "0        ordinarily that discretion will be exercised s...\n",
              "1        the general principle governing the exercise o...\n",
              "2        ordinarily that discretion will be exercised s...\n",
              "3        the general principle governing the exercise o...\n",
              "4        the preceding general principle inform the exe...\n",
              "                               ...                        \n",
              "24980    that is not confined to person who control the...\n",
              "24981    once the threshold prescribed by s 1335 is sat...\n",
              "24982    once the threshold prescribed by s 1335 is sat...\n",
              "24983    given the extent to which deumer stand to gain...\n",
              "24984    in my view it is clear that the court may do s...\n",
              "Name: normal_text, Length: 24985, dtype: object"
            ],
            "text/html": [
              "<div>\n",
              "<style scoped>\n",
              "    .dataframe tbody tr th:only-of-type {\n",
              "        vertical-align: middle;\n",
              "    }\n",
              "\n",
              "    .dataframe tbody tr th {\n",
              "        vertical-align: top;\n",
              "    }\n",
              "\n",
              "    .dataframe thead th {\n",
              "        text-align: right;\n",
              "    }\n",
              "</style>\n",
              "<table border=\"1\" class=\"dataframe\">\n",
              "  <thead>\n",
              "    <tr style=\"text-align: right;\">\n",
              "      <th></th>\n",
              "      <th>normal_text</th>\n",
              "    </tr>\n",
              "  </thead>\n",
              "  <tbody>\n",
              "    <tr>\n",
              "      <th>0</th>\n",
              "      <td>ordinarily that discretion will be exercised s...</td>\n",
              "    </tr>\n",
              "    <tr>\n",
              "      <th>1</th>\n",
              "      <td>the general principle governing the exercise o...</td>\n",
              "    </tr>\n",
              "    <tr>\n",
              "      <th>2</th>\n",
              "      <td>ordinarily that discretion will be exercised s...</td>\n",
              "    </tr>\n",
              "    <tr>\n",
              "      <th>3</th>\n",
              "      <td>the general principle governing the exercise o...</td>\n",
              "    </tr>\n",
              "    <tr>\n",
              "      <th>4</th>\n",
              "      <td>the preceding general principle inform the exe...</td>\n",
              "    </tr>\n",
              "    <tr>\n",
              "      <th>...</th>\n",
              "      <td>...</td>\n",
              "    </tr>\n",
              "    <tr>\n",
              "      <th>24980</th>\n",
              "      <td>that is not confined to person who control the...</td>\n",
              "    </tr>\n",
              "    <tr>\n",
              "      <th>24981</th>\n",
              "      <td>once the threshold prescribed by s 1335 is sat...</td>\n",
              "    </tr>\n",
              "    <tr>\n",
              "      <th>24982</th>\n",
              "      <td>once the threshold prescribed by s 1335 is sat...</td>\n",
              "    </tr>\n",
              "    <tr>\n",
              "      <th>24983</th>\n",
              "      <td>given the extent to which deumer stand to gain...</td>\n",
              "    </tr>\n",
              "    <tr>\n",
              "      <th>24984</th>\n",
              "      <td>in my view it is clear that the court may do s...</td>\n",
              "    </tr>\n",
              "  </tbody>\n",
              "</table>\n",
              "<p>24985 rows × 1 columns</p>\n",
              "</div><br><label><b>dtype:</b> object</label>"
            ]
          },
          "metadata": {},
          "execution_count": 21
        }
      ],
      "source": [
        "text['normal_text']"
      ]
    },
    {
      "cell_type": "code",
      "source": [
        "import pickle"
      ],
      "metadata": {
        "id": "ySq8SCXZt_yI"
      },
      "execution_count": 12,
      "outputs": []
    },
    {
      "cell_type": "code",
      "execution_count": 27,
      "metadata": {
        "id": "rAMd3oxsGrJS"
      },
      "outputs": [],
      "source": [
        "import joblib\n",
        "from sklearn.feature_extraction.text import TfidfVectorizer\n",
        "\n",
        "# Ваш существующий код обучения\n",
        "tfidf_vectorizer = TfidfVectorizer(max_features=300, min_df=40, max_df=0.7,\n",
        "                                 stop_words=english_stopwords, ngram_range=(1, 3))\n",
        "tfidf_vectorizer.fit(text['normal_text'])\n",
        "\n",
        "# Сохранение с явным указанием протокола\n",
        "joblib.dump(tfidf_vectorizer, 'tfidf_vectorizer.joblib', protocol=5)\n",
        "\n",
        "# Дополнительно сохраняем как pickle для проверки\n",
        "with open('tfidf_vectorizer.pkl', 'wb') as f:\n",
        "    pickle.dump(tfidf_vectorizer, f, protocol=5)"
      ]
    },
    {
      "cell_type": "code",
      "execution_count": 11,
      "metadata": {
        "colab": {
          "base_uri": "https://localhost:8080/",
          "height": 236
        },
        "id": "ZIsVFy6kGtu_",
        "outputId": "21eab4b9-31ee-42df-861d-af1fe2f3c27b"
      },
      "outputs": [
        {
          "output_type": "execute_result",
          "data": {
            "text/plain": [
              "   10  11  12  13  14  15  16  17  18  19  ...  waiver  way  well  whether  \\\n",
              "0   0   1   0   0   0   0   0   0   0   0  ...       0    0     0        0   \n",
              "1   0   0   0   0   0   0   0   0   0   0  ...       0    0     0        0   \n",
              "2   0   1   0   0   0   0   0   0   0   0  ...       0    0     0        0   \n",
              "3   0   0   0   0   0   0   0   0   0   0  ...       0    0     0        0   \n",
              "4   0   0   0   0   0   1   0   0   0   0  ...       0    0     0        0   \n",
              "\n",
              "   within  without  word  work  would  year  \n",
              "0       0        0     0     0      0     0  \n",
              "1       0        0     0     0      0     0  \n",
              "2       0        0     0     0      0     0  \n",
              "3       0        0     0     0      0     0  \n",
              "4       0        0     0     0      0     0  \n",
              "\n",
              "[5 rows x 300 columns]"
            ],
            "text/html": [
              "\n",
              "  <div id=\"df-cde9a419-d638-4d6a-b36b-804edf088656\" class=\"colab-df-container\">\n",
              "    <div>\n",
              "<style scoped>\n",
              "    .dataframe tbody tr th:only-of-type {\n",
              "        vertical-align: middle;\n",
              "    }\n",
              "\n",
              "    .dataframe tbody tr th {\n",
              "        vertical-align: top;\n",
              "    }\n",
              "\n",
              "    .dataframe thead th {\n",
              "        text-align: right;\n",
              "    }\n",
              "</style>\n",
              "<table border=\"1\" class=\"dataframe\">\n",
              "  <thead>\n",
              "    <tr style=\"text-align: right;\">\n",
              "      <th></th>\n",
              "      <th>10</th>\n",
              "      <th>11</th>\n",
              "      <th>12</th>\n",
              "      <th>13</th>\n",
              "      <th>14</th>\n",
              "      <th>15</th>\n",
              "      <th>16</th>\n",
              "      <th>17</th>\n",
              "      <th>18</th>\n",
              "      <th>19</th>\n",
              "      <th>...</th>\n",
              "      <th>waiver</th>\n",
              "      <th>way</th>\n",
              "      <th>well</th>\n",
              "      <th>whether</th>\n",
              "      <th>within</th>\n",
              "      <th>without</th>\n",
              "      <th>word</th>\n",
              "      <th>work</th>\n",
              "      <th>would</th>\n",
              "      <th>year</th>\n",
              "    </tr>\n",
              "  </thead>\n",
              "  <tbody>\n",
              "    <tr>\n",
              "      <th>0</th>\n",
              "      <td>0</td>\n",
              "      <td>1</td>\n",
              "      <td>0</td>\n",
              "      <td>0</td>\n",
              "      <td>0</td>\n",
              "      <td>0</td>\n",
              "      <td>0</td>\n",
              "      <td>0</td>\n",
              "      <td>0</td>\n",
              "      <td>0</td>\n",
              "      <td>...</td>\n",
              "      <td>0</td>\n",
              "      <td>0</td>\n",
              "      <td>0</td>\n",
              "      <td>0</td>\n",
              "      <td>0</td>\n",
              "      <td>0</td>\n",
              "      <td>0</td>\n",
              "      <td>0</td>\n",
              "      <td>0</td>\n",
              "      <td>0</td>\n",
              "    </tr>\n",
              "    <tr>\n",
              "      <th>1</th>\n",
              "      <td>0</td>\n",
              "      <td>0</td>\n",
              "      <td>0</td>\n",
              "      <td>0</td>\n",
              "      <td>0</td>\n",
              "      <td>0</td>\n",
              "      <td>0</td>\n",
              "      <td>0</td>\n",
              "      <td>0</td>\n",
              "      <td>0</td>\n",
              "      <td>...</td>\n",
              "      <td>0</td>\n",
              "      <td>0</td>\n",
              "      <td>0</td>\n",
              "      <td>0</td>\n",
              "      <td>0</td>\n",
              "      <td>0</td>\n",
              "      <td>0</td>\n",
              "      <td>0</td>\n",
              "      <td>0</td>\n",
              "      <td>0</td>\n",
              "    </tr>\n",
              "    <tr>\n",
              "      <th>2</th>\n",
              "      <td>0</td>\n",
              "      <td>1</td>\n",
              "      <td>0</td>\n",
              "      <td>0</td>\n",
              "      <td>0</td>\n",
              "      <td>0</td>\n",
              "      <td>0</td>\n",
              "      <td>0</td>\n",
              "      <td>0</td>\n",
              "      <td>0</td>\n",
              "      <td>...</td>\n",
              "      <td>0</td>\n",
              "      <td>0</td>\n",
              "      <td>0</td>\n",
              "      <td>0</td>\n",
              "      <td>0</td>\n",
              "      <td>0</td>\n",
              "      <td>0</td>\n",
              "      <td>0</td>\n",
              "      <td>0</td>\n",
              "      <td>0</td>\n",
              "    </tr>\n",
              "    <tr>\n",
              "      <th>3</th>\n",
              "      <td>0</td>\n",
              "      <td>0</td>\n",
              "      <td>0</td>\n",
              "      <td>0</td>\n",
              "      <td>0</td>\n",
              "      <td>0</td>\n",
              "      <td>0</td>\n",
              "      <td>0</td>\n",
              "      <td>0</td>\n",
              "      <td>0</td>\n",
              "      <td>...</td>\n",
              "      <td>0</td>\n",
              "      <td>0</td>\n",
              "      <td>0</td>\n",
              "      <td>0</td>\n",
              "      <td>0</td>\n",
              "      <td>0</td>\n",
              "      <td>0</td>\n",
              "      <td>0</td>\n",
              "      <td>0</td>\n",
              "      <td>0</td>\n",
              "    </tr>\n",
              "    <tr>\n",
              "      <th>4</th>\n",
              "      <td>0</td>\n",
              "      <td>0</td>\n",
              "      <td>0</td>\n",
              "      <td>0</td>\n",
              "      <td>0</td>\n",
              "      <td>1</td>\n",
              "      <td>0</td>\n",
              "      <td>0</td>\n",
              "      <td>0</td>\n",
              "      <td>0</td>\n",
              "      <td>...</td>\n",
              "      <td>0</td>\n",
              "      <td>0</td>\n",
              "      <td>0</td>\n",
              "      <td>0</td>\n",
              "      <td>0</td>\n",
              "      <td>0</td>\n",
              "      <td>0</td>\n",
              "      <td>0</td>\n",
              "      <td>0</td>\n",
              "      <td>0</td>\n",
              "    </tr>\n",
              "  </tbody>\n",
              "</table>\n",
              "<p>5 rows × 300 columns</p>\n",
              "</div>\n",
              "    <div class=\"colab-df-buttons\">\n",
              "\n",
              "  <div class=\"colab-df-container\">\n",
              "    <button class=\"colab-df-convert\" onclick=\"convertToInteractive('df-cde9a419-d638-4d6a-b36b-804edf088656')\"\n",
              "            title=\"Convert this dataframe to an interactive table.\"\n",
              "            style=\"display:none;\">\n",
              "\n",
              "  <svg xmlns=\"http://www.w3.org/2000/svg\" height=\"24px\" viewBox=\"0 -960 960 960\">\n",
              "    <path d=\"M120-120v-720h720v720H120Zm60-500h600v-160H180v160Zm220 220h160v-160H400v160Zm0 220h160v-160H400v160ZM180-400h160v-160H180v160Zm440 0h160v-160H620v160ZM180-180h160v-160H180v160Zm440 0h160v-160H620v160Z\"/>\n",
              "  </svg>\n",
              "    </button>\n",
              "\n",
              "  <style>\n",
              "    .colab-df-container {\n",
              "      display:flex;\n",
              "      gap: 12px;\n",
              "    }\n",
              "\n",
              "    .colab-df-convert {\n",
              "      background-color: #E8F0FE;\n",
              "      border: none;\n",
              "      border-radius: 50%;\n",
              "      cursor: pointer;\n",
              "      display: none;\n",
              "      fill: #1967D2;\n",
              "      height: 32px;\n",
              "      padding: 0 0 0 0;\n",
              "      width: 32px;\n",
              "    }\n",
              "\n",
              "    .colab-df-convert:hover {\n",
              "      background-color: #E2EBFA;\n",
              "      box-shadow: 0px 1px 2px rgba(60, 64, 67, 0.3), 0px 1px 3px 1px rgba(60, 64, 67, 0.15);\n",
              "      fill: #174EA6;\n",
              "    }\n",
              "\n",
              "    .colab-df-buttons div {\n",
              "      margin-bottom: 4px;\n",
              "    }\n",
              "\n",
              "    [theme=dark] .colab-df-convert {\n",
              "      background-color: #3B4455;\n",
              "      fill: #D2E3FC;\n",
              "    }\n",
              "\n",
              "    [theme=dark] .colab-df-convert:hover {\n",
              "      background-color: #434B5C;\n",
              "      box-shadow: 0px 1px 3px 1px rgba(0, 0, 0, 0.15);\n",
              "      filter: drop-shadow(0px 1px 2px rgba(0, 0, 0, 0.3));\n",
              "      fill: #FFFFFF;\n",
              "    }\n",
              "  </style>\n",
              "\n",
              "    <script>\n",
              "      const buttonEl =\n",
              "        document.querySelector('#df-cde9a419-d638-4d6a-b36b-804edf088656 button.colab-df-convert');\n",
              "      buttonEl.style.display =\n",
              "        google.colab.kernel.accessAllowed ? 'block' : 'none';\n",
              "\n",
              "      async function convertToInteractive(key) {\n",
              "        const element = document.querySelector('#df-cde9a419-d638-4d6a-b36b-804edf088656');\n",
              "        const dataTable =\n",
              "          await google.colab.kernel.invokeFunction('convertToInteractive',\n",
              "                                                    [key], {});\n",
              "        if (!dataTable) return;\n",
              "\n",
              "        const docLinkHtml = 'Like what you see? Visit the ' +\n",
              "          '<a target=\"_blank\" href=https://colab.research.google.com/notebooks/data_table.ipynb>data table notebook</a>'\n",
              "          + ' to learn more about interactive tables.';\n",
              "        element.innerHTML = '';\n",
              "        dataTable['output_type'] = 'display_data';\n",
              "        await google.colab.output.renderOutput(dataTable, element);\n",
              "        const docLink = document.createElement('div');\n",
              "        docLink.innerHTML = docLinkHtml;\n",
              "        element.appendChild(docLink);\n",
              "      }\n",
              "    </script>\n",
              "  </div>\n",
              "\n",
              "\n",
              "    <div id=\"df-a92c8641-accd-484d-828b-aecac9efe961\">\n",
              "      <button class=\"colab-df-quickchart\" onclick=\"quickchart('df-a92c8641-accd-484d-828b-aecac9efe961')\"\n",
              "                title=\"Suggest charts\"\n",
              "                style=\"display:none;\">\n",
              "\n",
              "<svg xmlns=\"http://www.w3.org/2000/svg\" height=\"24px\"viewBox=\"0 0 24 24\"\n",
              "     width=\"24px\">\n",
              "    <g>\n",
              "        <path d=\"M19 3H5c-1.1 0-2 .9-2 2v14c0 1.1.9 2 2 2h14c1.1 0 2-.9 2-2V5c0-1.1-.9-2-2-2zM9 17H7v-7h2v7zm4 0h-2V7h2v10zm4 0h-2v-4h2v4z\"/>\n",
              "    </g>\n",
              "</svg>\n",
              "      </button>\n",
              "\n",
              "<style>\n",
              "  .colab-df-quickchart {\n",
              "      --bg-color: #E8F0FE;\n",
              "      --fill-color: #1967D2;\n",
              "      --hover-bg-color: #E2EBFA;\n",
              "      --hover-fill-color: #174EA6;\n",
              "      --disabled-fill-color: #AAA;\n",
              "      --disabled-bg-color: #DDD;\n",
              "  }\n",
              "\n",
              "  [theme=dark] .colab-df-quickchart {\n",
              "      --bg-color: #3B4455;\n",
              "      --fill-color: #D2E3FC;\n",
              "      --hover-bg-color: #434B5C;\n",
              "      --hover-fill-color: #FFFFFF;\n",
              "      --disabled-bg-color: #3B4455;\n",
              "      --disabled-fill-color: #666;\n",
              "  }\n",
              "\n",
              "  .colab-df-quickchart {\n",
              "    background-color: var(--bg-color);\n",
              "    border: none;\n",
              "    border-radius: 50%;\n",
              "    cursor: pointer;\n",
              "    display: none;\n",
              "    fill: var(--fill-color);\n",
              "    height: 32px;\n",
              "    padding: 0;\n",
              "    width: 32px;\n",
              "  }\n",
              "\n",
              "  .colab-df-quickchart:hover {\n",
              "    background-color: var(--hover-bg-color);\n",
              "    box-shadow: 0 1px 2px rgba(60, 64, 67, 0.3), 0 1px 3px 1px rgba(60, 64, 67, 0.15);\n",
              "    fill: var(--button-hover-fill-color);\n",
              "  }\n",
              "\n",
              "  .colab-df-quickchart-complete:disabled,\n",
              "  .colab-df-quickchart-complete:disabled:hover {\n",
              "    background-color: var(--disabled-bg-color);\n",
              "    fill: var(--disabled-fill-color);\n",
              "    box-shadow: none;\n",
              "  }\n",
              "\n",
              "  .colab-df-spinner {\n",
              "    border: 2px solid var(--fill-color);\n",
              "    border-color: transparent;\n",
              "    border-bottom-color: var(--fill-color);\n",
              "    animation:\n",
              "      spin 1s steps(1) infinite;\n",
              "  }\n",
              "\n",
              "  @keyframes spin {\n",
              "    0% {\n",
              "      border-color: transparent;\n",
              "      border-bottom-color: var(--fill-color);\n",
              "      border-left-color: var(--fill-color);\n",
              "    }\n",
              "    20% {\n",
              "      border-color: transparent;\n",
              "      border-left-color: var(--fill-color);\n",
              "      border-top-color: var(--fill-color);\n",
              "    }\n",
              "    30% {\n",
              "      border-color: transparent;\n",
              "      border-left-color: var(--fill-color);\n",
              "      border-top-color: var(--fill-color);\n",
              "      border-right-color: var(--fill-color);\n",
              "    }\n",
              "    40% {\n",
              "      border-color: transparent;\n",
              "      border-right-color: var(--fill-color);\n",
              "      border-top-color: var(--fill-color);\n",
              "    }\n",
              "    60% {\n",
              "      border-color: transparent;\n",
              "      border-right-color: var(--fill-color);\n",
              "    }\n",
              "    80% {\n",
              "      border-color: transparent;\n",
              "      border-right-color: var(--fill-color);\n",
              "      border-bottom-color: var(--fill-color);\n",
              "    }\n",
              "    90% {\n",
              "      border-color: transparent;\n",
              "      border-bottom-color: var(--fill-color);\n",
              "    }\n",
              "  }\n",
              "</style>\n",
              "\n",
              "      <script>\n",
              "        async function quickchart(key) {\n",
              "          const quickchartButtonEl =\n",
              "            document.querySelector('#' + key + ' button');\n",
              "          quickchartButtonEl.disabled = true;  // To prevent multiple clicks.\n",
              "          quickchartButtonEl.classList.add('colab-df-spinner');\n",
              "          try {\n",
              "            const charts = await google.colab.kernel.invokeFunction(\n",
              "                'suggestCharts', [key], {});\n",
              "          } catch (error) {\n",
              "            console.error('Error during call to suggestCharts:', error);\n",
              "          }\n",
              "          quickchartButtonEl.classList.remove('colab-df-spinner');\n",
              "          quickchartButtonEl.classList.add('colab-df-quickchart-complete');\n",
              "        }\n",
              "        (() => {\n",
              "          let quickchartButtonEl =\n",
              "            document.querySelector('#df-a92c8641-accd-484d-828b-aecac9efe961 button');\n",
              "          quickchartButtonEl.style.display =\n",
              "            google.colab.kernel.accessAllowed ? 'block' : 'none';\n",
              "        })();\n",
              "      </script>\n",
              "    </div>\n",
              "    </div>\n",
              "  </div>\n"
            ],
            "application/vnd.google.colaboratory.intrinsic+json": {
              "type": "dataframe",
              "variable_name": "text_count_vectorizer"
            }
          },
          "metadata": {},
          "execution_count": 11
        }
      ],
      "source": [
        "from sklearn.feature_extraction.text import CountVectorizer\n",
        "english_stopwords = stopwords.words(\"english\")\n",
        "count_vectorizer = CountVectorizer(max_features=300, min_df=40, max_df=0.7, stop_words=english_stopwords, ngram_range=(1, 3))\n",
        "\n",
        "with open('count_vectorizer.pkl', 'wb') as f:\n",
        "    pickle.dump(count_vectorizer, f)\n",
        "\n",
        "text_count_vectorizer = count_vectorizer.fit_transform(text['normal_text'])\n",
        "text_count_vectorizer = pd.DataFrame(text_count_vectorizer.toarray(),columns=count_vectorizer.get_feature_names_out())\n",
        "text_count_vectorizer.head()"
      ]
    },
    {
      "cell_type": "code",
      "source": [
        "import sklearn\n",
        "import pickle\n",
        "import pandas as pd\n",
        "import numpy as np\n",
        "import tensorflow as tf\n",
        "\n",
        "print(f\"scikit-learn: {sklearn.__version__}\")\n",
        "print(f\"pickle protocol: {pickle.HIGHEST_PROTOCOL}\")\n",
        "print(f\"pandas: {pd.__version__}\")\n",
        "print(f\"numpy: {np.__version__}\")\n",
        "print(f\"tensorflow: {tf.__version__}\")"
      ],
      "metadata": {
        "colab": {
          "base_uri": "https://localhost:8080/"
        },
        "id": "Z4VQmhR1zo-I",
        "outputId": "698d6ddf-1b4c-43bd-dd8c-9e26c2be81f3"
      },
      "execution_count": 26,
      "outputs": [
        {
          "output_type": "stream",
          "name": "stdout",
          "text": [
            "scikit-learn: 1.6.1\n",
            "pickle protocol: 5\n",
            "pandas: 2.2.2\n",
            "numpy: 2.0.2\n",
            "tensorflow: 2.18.0\n"
          ]
        }
      ]
    },
    {
      "cell_type": "code",
      "execution_count": null,
      "metadata": {
        "colab": {
          "base_uri": "https://localhost:8080/"
        },
        "id": "fqaJ_jsQHCYk",
        "outputId": "f2b1573a-4291-4b29-cd11-611528d1ab86"
      },
      "outputs": [
        {
          "name": "stdout",
          "output_type": "stream",
          "text": [
            "Биграммы (Count Vectorizer):\n",
            "71         commissioner taxation\n",
            "120                federal court\n",
            "121           federal magistrate\n",
            "128                   full court\n",
            "143                   high court\n",
            "147    immigration multicultural\n",
            "151            indigenous affair\n",
            "163                 legal advice\n",
            "182         minister immigration\n",
            "186     multicultural indigenous\n",
            "dtype: object\n",
            "\n",
            "Триграммы (Count Vectorizer):\n",
            "183    minister immigration multicultural\n",
            "187       multicultural indigenous affair\n",
            "dtype: object\n",
            "\n",
            "Биграммы (TfidfVectorizer):\n",
            "71         commissioner taxation\n",
            "120                federal court\n",
            "121           federal magistrate\n",
            "128                   full court\n",
            "143                   high court\n",
            "147    immigration multicultural\n",
            "151            indigenous affair\n",
            "163                 legal advice\n",
            "182         minister immigration\n",
            "186     multicultural indigenous\n",
            "dtype: object\n",
            "\n",
            "Триграммы (TfidfVectorizer):\n",
            "183    minister immigration multicultural\n",
            "187       multicultural indigenous affair\n",
            "dtype: object\n"
          ]
        }
      ],
      "source": [
        "\n",
        "\n",
        "# Count Vectorizer с униграммами, биграммами и триграммами\n",
        "# Получение всех признаков\n",
        "features_count = count_vectorizer.get_feature_names_out()\n",
        "ngram_df_count = pd.Series(features_count)\n",
        "\n",
        "# Фильтрация биграмм и триграмм\n",
        "bigrams_count = ngram_df_count[ngram_df_count.str.count(\" \") == 1]\n",
        "trigrams_count = ngram_df_count[ngram_df_count.str.count(\" \") == 2]\n",
        "\n",
        "print(\"Биграммы (Count Vectorizer):\")\n",
        "print(bigrams_count.head(10))\n",
        "\n",
        "print(\"\\nТриграммы (Count Vectorizer):\")\n",
        "print(trigrams_count.head(10))\n",
        "\n",
        "# TfidfVectorizer с униграммами, биграммами и триграммами\n",
        "# Получение всех признаков\n",
        "features_tfidf = tfidf_vectorizer.get_feature_names_out()\n",
        "ngram_df_tfidf = pd.Series(features_tfidf)\n",
        "\n",
        "# Фильтрация биграмм и триграмм\n",
        "bigrams_tfidf = ngram_df_tfidf[ngram_df_tfidf.str.count(\" \") == 1]\n",
        "trigrams_tfidf = ngram_df_tfidf[ngram_df_tfidf.str.count(\" \") == 2]\n",
        "\n",
        "print(\"\\nБиграммы (TfidfVectorizer):\")\n",
        "print(bigrams_tfidf.head(10))\n",
        "\n",
        "print(\"\\nТриграммы (TfidfVectorizer):\")\n",
        "print(trigrams_tfidf.head(10))"
      ]
    },
    {
      "cell_type": "code",
      "execution_count": null,
      "metadata": {
        "id": "dUGOb7YbHX2m"
      },
      "outputs": [],
      "source": [
        "from sklearn.preprocessing import StandardScaler, LabelEncoder\n",
        "from sklearn.model_selection import train_test_split\n",
        "import keras\n",
        "from keras.models import Sequential\n",
        "from keras.layers import Dense\n",
        "from sklearn.metrics import classification_report, confusion_matrix"
      ]
    },
    {
      "cell_type": "code",
      "execution_count": null,
      "metadata": {
        "id": "J7_arkMcFxAw"
      },
      "outputs": [],
      "source": [
        "from tensorflow.keras.utils import to_categorical\n",
        "label_encoder = LabelEncoder() #кодируем каждую метку класса числом\n",
        "y = label_encoder.fit_transform(text['case_outcome'])\n",
        "y = to_categorical(y)"
      ]
    },
    {
      "cell_type": "code",
      "execution_count": null,
      "metadata": {
        "colab": {
          "base_uri": "https://localhost:8080/"
        },
        "id": "7wPOCMeBdk84",
        "outputId": "8e197a4b-5cbb-48c2-dbcc-702ade15d276"
      },
      "outputs": [
        {
          "data": {
            "text/plain": [
              "10"
            ]
          },
          "execution_count": 58,
          "metadata": {},
          "output_type": "execute_result"
        }
      ],
      "source": [
        "y.shape[1]"
      ]
    },
    {
      "cell_type": "code",
      "execution_count": null,
      "metadata": {
        "id": "hkAiPkDHHfH_"
      },
      "outputs": [],
      "source": [
        "# Стандартизация данных\n",
        "scaler = StandardScaler(with_mean=False)  # with_mean=False, так как разреженные матрицы не поддерживают центрирование\n",
        "X_count_scal = scaler.fit_transform(text_count_vectorizer)\n",
        "X_count_scal = pd.DataFrame(X_count_scal, columns=text_count_vectorizer.columns)\n",
        "X_tfidf_scal = scaler.fit_transform(text_tfidf_vectorizer)\n",
        "X_tfidf_scal = pd.DataFrame(X_tfidf_scal, columns=text_tfidf_vectorizer.columns)"
      ]
    },
    {
      "cell_type": "code",
      "execution_count": null,
      "metadata": {
        "id": "wPMQsiWkodO9"
      },
      "outputs": [],
      "source": [
        "# Разделение данных\n",
        "X_train_full, X_test, y_train_full, y_test = train_test_split(X_count_scal, y, test_size=0.4, random_state=52)\n",
        "X_train, X_valid, y_train, y_valid = train_test_split(X_train_full, y_train_full, test_size=0.4, random_state=52)"
      ]
    },
    {
      "cell_type": "code",
      "execution_count": null,
      "metadata": {
        "colab": {
          "base_uri": "https://localhost:8080/"
        },
        "id": "AnIa68vJosQy",
        "outputId": "8f855dfc-f8e4-4cb1-a072-4e9c017a0e2c"
      },
      "outputs": [
        {
          "name": "stderr",
          "output_type": "stream",
          "text": [
            "/usr/local/lib/python3.11/dist-packages/keras/src/layers/core/dense.py:87: UserWarning: Do not pass an `input_shape`/`input_dim` argument to a layer. When using Sequential models, prefer using an `Input(shape)` object as the first layer in the model instead.\n",
            "  super().__init__(activity_regularizer=activity_regularizer, **kwargs)\n"
          ]
        },
        {
          "name": "stdout",
          "output_type": "stream",
          "text": [
            "Epoch 1/10\n",
            "\u001b[1m1285/1285\u001b[0m \u001b[32m━━━━━━━━━━━━━━━━━━━━\u001b[0m\u001b[37m\u001b[0m \u001b[1m13s\u001b[0m 9ms/step - accuracy: 0.4705 - loss: 1.7258 - val_accuracy: 0.4852 - val_loss: 1.5278\n",
            "Epoch 2/10\n",
            "\u001b[1m1285/1285\u001b[0m \u001b[32m━━━━━━━━━━━━━━━━━━━━\u001b[0m\u001b[37m\u001b[0m \u001b[1m21s\u001b[0m 9ms/step - accuracy: 0.5028 - loss: 1.4022 - val_accuracy: 0.5019 - val_loss: 1.5037\n",
            "Epoch 3/10\n",
            "\u001b[1m1285/1285\u001b[0m \u001b[32m━━━━━━━━━━━━━━━━━━━━\u001b[0m\u001b[37m\u001b[0m \u001b[1m12s\u001b[0m 9ms/step - accuracy: 0.5793 - loss: 1.1631 - val_accuracy: 0.5054 - val_loss: 1.5326\n",
            "Epoch 4/10\n",
            "\u001b[1m1285/1285\u001b[0m \u001b[32m━━━━━━━━━━━━━━━━━━━━\u001b[0m\u001b[37m\u001b[0m \u001b[1m11s\u001b[0m 9ms/step - accuracy: 0.6971 - loss: 0.8474 - val_accuracy: 0.5031 - val_loss: 1.7952\n",
            "Epoch 5/10\n",
            "\u001b[1m1285/1285\u001b[0m \u001b[32m━━━━━━━━━━━━━━━━━━━━\u001b[0m\u001b[37m\u001b[0m \u001b[1m9s\u001b[0m 7ms/step - accuracy: 0.8272 - loss: 0.5180 - val_accuracy: 0.5044 - val_loss: 2.2421\n",
            "Epoch 6/10\n",
            "\u001b[1m1285/1285\u001b[0m \u001b[32m━━━━━━━━━━━━━━━━━━━━\u001b[0m\u001b[37m\u001b[0m \u001b[1m11s\u001b[0m 8ms/step - accuracy: 0.8918 - loss: 0.3575 - val_accuracy: 0.5091 - val_loss: 2.8013\n",
            "Epoch 7/10\n",
            "\u001b[1m1285/1285\u001b[0m \u001b[32m━━━━━━━━━━━━━━━━━━━━\u001b[0m\u001b[37m\u001b[0m \u001b[1m22s\u001b[0m 9ms/step - accuracy: 0.9161 - loss: 0.2701 - val_accuracy: 0.4987 - val_loss: 2.7951\n",
            "Epoch 8/10\n",
            "\u001b[1m1285/1285\u001b[0m \u001b[32m━━━━━━━━━━━━━━━━━━━━\u001b[0m\u001b[37m\u001b[0m \u001b[1m19s\u001b[0m 8ms/step - accuracy: 0.9255 - loss: 0.2240 - val_accuracy: 0.4809 - val_loss: 3.1244\n",
            "Epoch 9/10\n",
            "\u001b[1m1285/1285\u001b[0m \u001b[32m━━━━━━━━━━━━━━━━━━━━\u001b[0m\u001b[37m\u001b[0m \u001b[1m22s\u001b[0m 9ms/step - accuracy: 0.9367 - loss: 0.2036 - val_accuracy: 0.4891 - val_loss: 3.4503\n",
            "Epoch 10/10\n",
            "\u001b[1m1285/1285\u001b[0m \u001b[32m━━━━━━━━━━━━━━━━━━━━\u001b[0m\u001b[37m\u001b[0m \u001b[1m18s\u001b[0m 14ms/step - accuracy: 0.9336 - loss: 0.1827 - val_accuracy: 0.5014 - val_loss: 3.1935\n"
          ]
        }
      ],
      "source": [
        "# Модель для Count Vectorizer\n",
        "model_cv = keras.models.Sequential()\n",
        "model_cv.add(Dense(500, activation='relu', input_dim=X_train.shape[1]))\n",
        "model_cv.add(Dense(256, activation='relu'))\n",
        "model_cv.add(Dense(64, activation='relu'))\n",
        "model_cv.add(Dense(y.shape[1], activation='softmax'))\n",
        "\n",
        "model_cv.compile(optimizer='adam',\n",
        "              loss='categorical_crossentropy',\n",
        "              metrics=[\"accuracy\"])\n",
        "\n",
        "history_cv = model_cv.fit(X_train, y_train, epochs = 10, batch_size = 7, validation_data = (X_valid,y_valid))"
      ]
    },
    {
      "cell_type": "code",
      "execution_count": null,
      "metadata": {
        "colab": {
          "base_uri": "https://localhost:8080/",
          "height": 854
        },
        "id": "pcj7BzcUO0oD",
        "outputId": "e48c5bc5-b15a-4333-844c-56ad58842920"
      },
      "outputs": [
        {
          "name": "stdout",
          "output_type": "stream",
          "text": [
            "\u001b[1m313/313\u001b[0m \u001b[32m━━━━━━━━━━━━━━━━━━━━\u001b[0m\u001b[37m\u001b[0m \u001b[1m2s\u001b[0m 5ms/step - accuracy: 0.4904 - loss: 3.1809\n",
            "0.49\n",
            "\u001b[1m188/188\u001b[0m \u001b[32m━━━━━━━━━━━━━━━━━━━━\u001b[0m\u001b[37m\u001b[0m \u001b[1m1s\u001b[0m 3ms/step - accuracy: 0.5043 - loss: 3.1894\n",
            "Validation Loss: 3.1935, Validation Accuracy: 0.5014\n",
            "\u001b[1m188/188\u001b[0m \u001b[32m━━━━━━━━━━━━━━━━━━━━\u001b[0m\u001b[37m\u001b[0m \u001b[1m1s\u001b[0m 2ms/step\n"
          ]
        },
        {
          "data": {
            "image/png": "[encoded data removed]",
            "text/plain": [
              "<Figure size 640x480 with 2 Axes>"
            ]
          },
          "metadata": {},
          "output_type": "display_data"
        },
        {
          "name": "stdout",
          "output_type": "stream",
          "text": [
            "              precision    recall  f1-score   support\n",
            "\n",
            "           0       0.54      0.29      0.38        24\n",
            "           1       0.26      0.22      0.24       562\n",
            "           2       0.10      0.04      0.05        28\n",
            "           3       0.62      0.72      0.67      2938\n",
            "           4       0.23      0.20      0.22       429\n",
            "           5       0.26      0.13      0.18       253\n",
            "           6       0.29      0.22      0.25       138\n",
            "           7       0.32      0.27      0.29       530\n",
            "           8       0.45      0.44      0.44      1066\n",
            "           9       0.50      0.24      0.33        29\n",
            "\n",
            "    accuracy                           0.50      5997\n",
            "   macro avg       0.36      0.28      0.30      5997\n",
            "weighted avg       0.48      0.50      0.49      5997\n",
            "\n"
          ]
        }
      ],
      "source": [
        "import matplotlib.pyplot as plt\n",
        "from sklearn.metrics import confusion_matrix, ConfusionMatrixDisplay, classification_report\n",
        "\n",
        "# Оценка модели\n",
        "acc = model_cv.evaluate(X_test,y_test)\n",
        "print(np.array(acc)[1].round(2))\n",
        "loss, accuracy = model_cv.evaluate(X_valid, y_valid)\n",
        "print(f'Validation Loss: {loss:.4f}, Validation Accuracy: {accuracy:.4f}')\n",
        "\n",
        "# Предсказания\n",
        "y_pred_probs = model_cv.predict(X_valid)\n",
        "y_pred = np.argmax(y_pred_probs, axis=1)\n",
        "y_true = np.argmax(y_valid, axis=1)\n",
        "\n",
        "# Матрица путаницы\n",
        "cm = confusion_matrix(y_true, y_pred)\n",
        "disp = ConfusionMatrixDisplay(confusion_matrix=cm)\n",
        "disp.plot(cmap=plt.cm.Purples)\n",
        "plt.title('Confusion Matrix')\n",
        "plt.show()\n",
        "\n",
        "print(classification_report(y_true, y_pred))"
      ]
    },
    {
      "cell_type": "code",
      "execution_count": null,
      "metadata": {
        "id": "mMrBT8Ekpht0"
      },
      "outputs": [],
      "source": [
        "# Разделение данных\n",
        "X_train_full, X_test, y_train_full, y_test = train_test_split(X_tfidf_scal, y, test_size=0.4, random_state=52)\n",
        "X_train, X_valid, y_train, y_valid = train_test_split(X_train_full, y_train_full, test_size=0.4, random_state=52)"
      ]
    },
    {
      "cell_type": "code",
      "execution_count": null,
      "metadata": {
        "colab": {
          "base_uri": "https://localhost:8080/"
        },
        "id": "w1cnC3gdO89r",
        "outputId": "f74e61b9-6b47-4b53-f5e0-910178eec47d"
      },
      "outputs": [
        {
          "name": "stderr",
          "output_type": "stream",
          "text": [
            "/usr/local/lib/python3.11/dist-packages/keras/src/layers/core/dense.py:87: UserWarning: Do not pass an `input_shape`/`input_dim` argument to a layer. When using Sequential models, prefer using an `Input(shape)` object as the first layer in the model instead.\n",
            "  super().__init__(activity_regularizer=activity_regularizer, **kwargs)\n"
          ]
        },
        {
          "name": "stdout",
          "output_type": "stream",
          "text": [
            "Epoch 1/10\n",
            "\u001b[1m1285/1285\u001b[0m \u001b[32m━━━━━━━━━━━━━━━━━━━━\u001b[0m\u001b[37m\u001b[0m \u001b[1m14s\u001b[0m 9ms/step - accuracy: 0.4600 - loss: 1.6337 - val_accuracy: 0.4912 - val_loss: 1.5173\n",
            "Epoch 2/10\n",
            "\u001b[1m1285/1285\u001b[0m \u001b[32m━━━━━━━━━━━━━━━━━━━━\u001b[0m\u001b[37m\u001b[0m \u001b[1m13s\u001b[0m 10ms/step - accuracy: 0.5053 - loss: 1.3927 - val_accuracy: 0.4957 - val_loss: 1.4999\n",
            "Epoch 3/10\n",
            "\u001b[1m1285/1285\u001b[0m \u001b[32m━━━━━━━━━━━━━━━━━━━━\u001b[0m\u001b[37m\u001b[0m \u001b[1m13s\u001b[0m 10ms/step - accuracy: 0.6059 - loss: 1.0942 - val_accuracy: 0.5058 - val_loss: 1.5730\n",
            "Epoch 4/10\n",
            "\u001b[1m1285/1285\u001b[0m \u001b[32m━━━━━━━━━━━━━━━━━━━━\u001b[0m\u001b[37m\u001b[0m \u001b[1m11s\u001b[0m 8ms/step - accuracy: 0.7643 - loss: 0.6749 - val_accuracy: 0.5044 - val_loss: 1.8823\n",
            "Epoch 5/10\n",
            "\u001b[1m1285/1285\u001b[0m \u001b[32m━━━━━━━━━━━━━━━━━━━━\u001b[0m\u001b[37m\u001b[0m \u001b[1m21s\u001b[0m 9ms/step - accuracy: 0.8782 - loss: 0.3952 - val_accuracy: 0.4867 - val_loss: 2.0354\n",
            "Epoch 6/10\n",
            "\u001b[1m1285/1285\u001b[0m \u001b[32m━━━━━━━━━━━━━━━━━━━━\u001b[0m\u001b[37m\u001b[0m \u001b[1m11s\u001b[0m 9ms/step - accuracy: 0.9110 - loss: 0.2998 - val_accuracy: 0.4939 - val_loss: 2.5969\n",
            "Epoch 7/10\n",
            "\u001b[1m1285/1285\u001b[0m \u001b[32m━━━━━━━━━━━━━━━━━━━━\u001b[0m\u001b[37m\u001b[0m \u001b[1m19s\u001b[0m 8ms/step - accuracy: 0.9283 - loss: 0.2222 - val_accuracy: 0.5198 - val_loss: 2.8090\n",
            "Epoch 8/10\n",
            "\u001b[1m1285/1285\u001b[0m \u001b[32m━━━━━━━━━━━━━━━━━━━━\u001b[0m\u001b[37m\u001b[0m \u001b[1m12s\u001b[0m 9ms/step - accuracy: 0.9372 - loss: 0.1952 - val_accuracy: 0.4959 - val_loss: 3.0051\n",
            "Epoch 9/10\n",
            "\u001b[1m1285/1285\u001b[0m \u001b[32m━━━━━━━━━━━━━━━━━━━━\u001b[0m\u001b[37m\u001b[0m \u001b[1m12s\u001b[0m 9ms/step - accuracy: 0.9446 - loss: 0.1674 - val_accuracy: 0.4772 - val_loss: 3.3512\n",
            "Epoch 10/10\n",
            "\u001b[1m1285/1285\u001b[0m \u001b[32m━━━━━━━━━━━━━━━━━━━━\u001b[0m\u001b[37m\u001b[0m \u001b[1m19s\u001b[0m 8ms/step - accuracy: 0.9294 - loss: 0.1924 - val_accuracy: 0.4819 - val_loss: 3.5201\n"
          ]
        }
      ],
      "source": [
        "# Модель для TfidfVectorizer\n",
        "model_tv = keras.models.Sequential()\n",
        "model_tv.add(Dense(500, activation='relu', input_dim=X_train.shape[1]))\n",
        "model_tv.add(Dense(256, activation='relu'))\n",
        "model_tv.add(Dense(64, activation='relu'))\n",
        "model_tv.add(Dense(y.shape[1], activation='softmax'))\n",
        "\n",
        "model_tv.compile(optimizer='adam',\n",
        "              loss='categorical_crossentropy',\n",
        "              metrics=[\"accuracy\"])\n",
        "\n",
        "history_tv = model_tv.fit(X_train, y_train, epochs = 10, batch_size = 7, validation_data=(X_valid,y_valid))"
      ]
    },
    {
      "cell_type": "code",
      "execution_count": null,
      "metadata": {
        "colab": {
          "base_uri": "https://localhost:8080/",
          "height": 854
        },
        "id": "WGXMJWFjypW3",
        "outputId": "16f1c6db-2de2-4fe2-f87b-aef9dfe9e62c"
      },
      "outputs": [
        {
          "name": "stdout",
          "output_type": "stream",
          "text": [
            "\u001b[1m313/313\u001b[0m \u001b[32m━━━━━━━━━━━━━━━━━━━━\u001b[0m\u001b[37m\u001b[0m \u001b[1m2s\u001b[0m 5ms/step - accuracy: 0.4876 - loss: 3.3770\n",
            "0.49\n",
            "\u001b[1m188/188\u001b[0m \u001b[32m━━━━━━━━━━━━━━━━━━━━\u001b[0m\u001b[37m\u001b[0m \u001b[1m1s\u001b[0m 3ms/step - accuracy: 0.4787 - loss: 3.5773\n",
            "Validation Loss: 3.5201, Validation Accuracy: 0.4819\n",
            "\u001b[1m188/188\u001b[0m \u001b[32m━━━━━━━━━━━━━━━━━━━━\u001b[0m\u001b[37m\u001b[0m \u001b[1m0s\u001b[0m 2ms/step\n"
          ]
        },
        {
          "data": {
            "image/png": "[encoded data removed]",
            "text/plain": [
              "<Figure size 640x480 with 2 Axes>"
            ]
          },
          "metadata": {},
          "output_type": "display_data"
        },
        {
          "name": "stdout",
          "output_type": "stream",
          "text": [
            "              precision    recall  f1-score   support\n",
            "\n",
            "           0       0.29      0.29      0.29        24\n",
            "           1       0.27      0.20      0.23       562\n",
            "           2       0.06      0.04      0.04        28\n",
            "           3       0.62      0.70      0.66      2938\n",
            "           4       0.24      0.15      0.18       429\n",
            "           5       0.17      0.28      0.22       253\n",
            "           6       0.19      0.33      0.24       138\n",
            "           7       0.28      0.32      0.30       530\n",
            "           8       0.51      0.32      0.39      1066\n",
            "           9       0.62      0.28      0.38        29\n",
            "\n",
            "    accuracy                           0.48      5997\n",
            "   macro avg       0.32      0.29      0.29      5997\n",
            "weighted avg       0.48      0.48      0.47      5997\n",
            "\n"
          ]
        }
      ],
      "source": [
        "# Оценка модели\n",
        "acc = model_tv.evaluate(X_test,y_test)\n",
        "print(np.array(acc)[1].round(2))\n",
        "loss, accuracy = model_tv.evaluate(X_valid, y_valid)\n",
        "print(f'Validation Loss: {loss:.4f}, Validation Accuracy: {accuracy:.4f}')\n",
        "\n",
        "# Предсказания\n",
        "y_pred_probs = model_tv.predict(X_valid)\n",
        "y_pred = np.argmax(y_pred_probs, axis=1)\n",
        "y_true = np.argmax(y_valid, axis=1)\n",
        "\n",
        "# Матрица путаницы\n",
        "cm = confusion_matrix(y_true, y_pred)\n",
        "disp = ConfusionMatrixDisplay(confusion_matrix=cm)\n",
        "disp.plot(cmap=plt.cm.Purples)\n",
        "plt.title('Confusion Matrix')\n",
        "plt.show()\n",
        "\n",
        "print(classification_report(y_true, y_pred))"
      ]
    },
    {
      "cell_type": "code",
      "execution_count": null,
      "metadata": {
        "colab": {
          "base_uri": "https://localhost:8080/"
        },
        "collapsed": true,
        "id": "vJr1v2yYT6_5",
        "outputId": "ece15b8a-064a-4ff9-c662-6017ef5b0991"
      },
      "outputs": [
        {
          "name": "stdout",
          "output_type": "stream",
          "text": [
            "Requirement already satisfied: tensorflow in /usr/local/lib/python3.11/dist-packages (2.18.0)\n",
            "Requirement already satisfied: absl-py>=1.0.0 in /usr/local/lib/python3.11/dist-packages (from tensorflow) (1.4.0)\n",
            "Requirement already satisfied: astunparse>=1.6.0 in /usr/local/lib/python3.11/dist-packages (from tensorflow) (1.6.3)\n",
            "Requirement already satisfied: flatbuffers>=24.3.25 in /usr/local/lib/python3.11/dist-packages (from tensorflow) (25.2.10)\n",
            "Requirement already satisfied: gast!=0.5.0,!=0.5.1,!=0.5.2,>=0.2.1 in /usr/local/lib/python3.11/dist-packages (from tensorflow) (0.6.0)\n",
            "Requirement already satisfied: google-pasta>=0.1.1 in /usr/local/lib/python3.11/dist-packages (from tensorflow) (0.2.0)\n",
            "Requirement already satisfied: libclang>=13.0.0 in /usr/local/lib/python3.11/dist-packages (from tensorflow) (18.1.1)\n",
            "Requirement already satisfied: opt-einsum>=2.3.2 in /usr/local/lib/python3.11/dist-packages (from tensorflow) (3.4.0)\n",
            "Requirement already satisfied: packaging in /usr/local/lib/python3.11/dist-packages (from tensorflow) (24.2)\n",
            "Requirement already satisfied: protobuf!=4.21.0,!=4.21.1,!=4.21.2,!=4.21.3,!=4.21.4,!=4.21.5,<6.0.0dev,>=3.20.3 in /usr/local/lib/python3.11/dist-packages (from tensorflow) (5.29.4)\n",
            "Requirement already satisfied: requests<3,>=2.21.0 in /usr/local/lib/python3.11/dist-packages (from tensorflow) (2.32.3)\n",
            "Requirement already satisfied: setuptools in /usr/local/lib/python3.11/dist-packages (from tensorflow) (75.2.0)\n",
            "Requirement already satisfied: six>=1.12.0 in /usr/local/lib/python3.11/dist-packages (from tensorflow) (1.17.0)\n",
            "Requirement already satisfied: termcolor>=1.1.0 in /usr/local/lib/python3.11/dist-packages (from tensorflow) (3.1.0)\n",
            "Requirement already satisfied: typing-extensions>=3.6.6 in /usr/local/lib/python3.11/dist-packages (from tensorflow) (4.13.2)\n",
            "Requirement already satisfied: wrapt>=1.11.0 in /usr/local/lib/python3.11/dist-packages (from tensorflow) (1.17.2)\n",
            "Requirement already satisfied: grpcio<2.0,>=1.24.3 in /usr/local/lib/python3.11/dist-packages (from tensorflow) (1.71.0)\n",
            "Requirement already satisfied: tensorboard<2.19,>=2.18 in /usr/local/lib/python3.11/dist-packages (from tensorflow) (2.18.0)\n",
            "Requirement already satisfied: keras>=3.5.0 in /usr/local/lib/python3.11/dist-packages (from tensorflow) (3.8.0)\n",
            "Requirement already satisfied: numpy<2.1.0,>=1.26.0 in /usr/local/lib/python3.11/dist-packages (from tensorflow) (2.0.2)\n",
            "Requirement already satisfied: h5py>=3.11.0 in /usr/local/lib/python3.11/dist-packages (from tensorflow) (3.13.0)\n",
            "Requirement already satisfied: ml-dtypes<0.5.0,>=0.4.0 in /usr/local/lib/python3.11/dist-packages (from tensorflow) (0.4.1)\n",
            "Requirement already satisfied: tensorflow-io-gcs-filesystem>=0.23.1 in /usr/local/lib/python3.11/dist-packages (from tensorflow) (0.37.1)\n",
            "Requirement already satisfied: wheel<1.0,>=0.23.0 in /usr/local/lib/python3.11/dist-packages (from astunparse>=1.6.0->tensorflow) (0.45.1)\n",
            "Requirement already satisfied: rich in /usr/local/lib/python3.11/dist-packages (from keras>=3.5.0->tensorflow) (13.9.4)\n",
            "Requirement already satisfied: namex in /usr/local/lib/python3.11/dist-packages (from keras>=3.5.0->tensorflow) (0.0.9)\n",
            "Requirement already satisfied: optree in /usr/local/lib/python3.11/dist-packages (from keras>=3.5.0->tensorflow) (0.15.0)\n",
            "Requirement already satisfied: charset-normalizer<4,>=2 in /usr/local/lib/python3.11/dist-packages (from requests<3,>=2.21.0->tensorflow) (3.4.2)\n",
            "Requirement already satisfied: idna<4,>=2.5 in /usr/local/lib/python3.11/dist-packages (from requests<3,>=2.21.0->tensorflow) (3.10)\n",
            "Requirement already satisfied: urllib3<3,>=1.21.1 in /usr/local/lib/python3.11/dist-packages (from requests<3,>=2.21.0->tensorflow) (2.4.0)\n",
            "Requirement already satisfied: certifi>=2017.4.17 in /usr/local/lib/python3.11/dist-packages (from requests<3,>=2.21.0->tensorflow) (2025.4.26)\n",
            "Requirement already satisfied: markdown>=2.6.8 in /usr/local/lib/python3.11/dist-packages (from tensorboard<2.19,>=2.18->tensorflow) (3.8)\n",
            "Requirement already satisfied: tensorboard-data-server<0.8.0,>=0.7.0 in /usr/local/lib/python3.11/dist-packages (from tensorboard<2.19,>=2.18->tensorflow) (0.7.2)\n",
            "Requirement already satisfied: werkzeug>=1.0.1 in /usr/local/lib/python3.11/dist-packages (from tensorboard<2.19,>=2.18->tensorflow) (3.1.3)\n",
            "Requirement already satisfied: MarkupSafe>=2.1.1 in /usr/local/lib/python3.11/dist-packages (from werkzeug>=1.0.1->tensorboard<2.19,>=2.18->tensorflow) (3.0.2)\n",
            "Requirement already satisfied: markdown-it-py>=2.2.0 in /usr/local/lib/python3.11/dist-packages (from rich->keras>=3.5.0->tensorflow) (3.0.0)\n",
            "Requirement already satisfied: pygments<3.0.0,>=2.13.0 in /usr/local/lib/python3.11/dist-packages (from rich->keras>=3.5.0->tensorflow) (2.19.1)\n",
            "Requirement already satisfied: mdurl~=0.1 in /usr/local/lib/python3.11/dist-packages (from markdown-it-py>=2.2.0->rich->keras>=3.5.0->tensorflow) (0.1.2)\n"
          ]
        }
      ],
      "source": [
        "!pip install tensorflow\n",
        "from tensorflow.keras.preprocessing.text import Tokenizer\n",
        "from tensorflow.keras.preprocessing.sequence import pad_sequences"
      ]
    },
    {
      "cell_type": "code",
      "execution_count": null,
      "metadata": {
        "id": "a-cKkPkxT9si"
      },
      "outputs": [],
      "source": [
        "# Токенизация\n",
        "tokenizer = Tokenizer()\n",
        "tokenizer.fit_on_texts(text['normal_text'])\n",
        "X_sequences = tokenizer.texts_to_sequences(text['normal_text'])\n",
        "X_padded = pad_sequences(X_sequences)"
      ]
    },
    {
      "cell_type": "code",
      "execution_count": null,
      "metadata": {
        "colab": {
          "base_uri": "https://localhost:8080/"
        },
        "id": "xQEU2qGDULX_",
        "outputId": "7bec07d5-0659-45ee-92aa-43561293a9e6"
      },
      "outputs": [
        {
          "data": {
            "text/plain": [
              "42885"
            ]
          },
          "execution_count": 68,
          "metadata": {},
          "output_type": "execute_result"
        }
      ],
      "source": [
        "vocab_size = len(tokenizer.word_index) + 1\n",
        "vocab_size"
      ]
    },
    {
      "cell_type": "code",
      "execution_count": null,
      "metadata": {
        "colab": {
          "base_uri": "https://localhost:8080/"
        },
        "id": "Zj3coNMBUPba",
        "outputId": "6353eb4b-45cb-4d37-ed0c-748a881a085e"
      },
      "outputs": [
        {
          "name": "stdout",
          "output_type": "stream",
          "text": [
            "ordinarily that discretion will be exercised so that cost follow the event and are awarded on a party and party basis a departure from normal practice to award indemnity cost requires some special or unusual feature in the case alpine hardwood aust pty ltd v hardy pty ltd no 2 2002 fca 224 2002 190 alr 121 at 11 weinberg j citing colgate palmolive co v cussons pty ltd 1993 46 fcr 225 at 233 sheppard j\n",
            "[992, 6, 258, 74, 11, 661, 84, 6, 117, 831, 1, 312, 7, 35, 1555, 20, 4, 55, 7, 55, 178, 4, 2102, 39, 2283, 280, 3, 674, 1072, 117, 610, 145, 555, 14, 2961, 1126, 5, 1, 29, 12193, 14902, 1191, 34, 23, 16, 9635, 34, 23, 33, 61, 182, 51, 2045, 182, 1851, 154, 1770, 10, 323, 1446, 25, 1578, 3822, 3875, 198, 16, 4699, 34, 23, 449, 619, 77, 1492, 10, 2106, 2344, 25]\n"
          ]
        }
      ],
      "source": [
        "print(text['normal_text'][0])\n",
        "print(X_sequences[0])"
      ]
    },
    {
      "cell_type": "code",
      "execution_count": null,
      "metadata": {
        "colab": {
          "base_uri": "https://localhost:8080/"
        },
        "id": "gh6njjRCUgiq",
        "outputId": "5d769ca6-848b-4b88-c6e0-aa9dcfc5d3ca"
      },
      "outputs": [
        {
          "name": "stdout",
          "output_type": "stream",
          "text": [
            "[  992     6   258    74    11   661    84     6   117   831     1   312\n",
            "     7    35  1555    20     4    55     7    55   178     4  2102    39\n",
            "  2283   280     3   674  1072   117   610   145   555    14  2961  1126\n",
            "     5     1    29 12193 14902  1191    34    23    16  9635    34    23\n",
            "    33    61   182    51  2045   182  1851   154  1770    10   323  1446\n",
            "    25  1578  3822  3875   198    16  4699    34    23   449   619    77\n",
            "  1492    10  2106  2344    25     0     0     0     0     0     0     0\n",
            "     0     0     0     0     0     0     0     0     0     0     0     0\n",
            "     0     0     0     0     0     0     0     0     0     0     0     0\n",
            "     0     0     0     0     0     0     0     0     0     0     0     0\n",
            "     0     0     0     0     0     0     0     0     0     0     0     0\n",
            "     0     0     0     0     0     0     0     0     0     0     0     0\n",
            "     0     0     0     0     0     0     0     0     0     0     0     0\n",
            "     0     0     0     0     0     0     0     0     0     0     0     0\n",
            "     0     0     0     0     0     0     0     0     0     0     0     0\n",
            "     0     0     0     0     0     0     0     0     0     0     0     0\n",
            "     0     0     0     0     0     0     0     0     0     0     0     0\n",
            "     0     0     0     0     0     0     0     0     0     0     0     0\n",
            "     0     0     0     0     0     0     0     0     0     0     0     0\n",
            "     0     0     0     0     0     0     0     0     0     0     0     0\n",
            "     0     0     0     0     0     0     0     0     0     0]\n"
          ]
        }
      ],
      "source": [
        "maxlen = 250\n",
        "X = pad_sequences(X_sequences, padding='post', maxlen=maxlen)\n",
        "\n",
        "print(X[0, :])"
      ]
    },
    {
      "cell_type": "code",
      "execution_count": null,
      "metadata": {
        "colab": {
          "base_uri": "https://localhost:8080/",
          "height": 327
        },
        "id": "2mrbvud8EX6z",
        "outputId": "2e309dc8-19c2-4d12-8e6f-c3398d104306"
      },
      "outputs": [
        {
          "name": "stderr",
          "output_type": "stream",
          "text": [
            "/usr/local/lib/python3.11/dist-packages/keras/src/layers/core/embedding.py:90: UserWarning: Argument `input_length` is deprecated. Just remove it.\n",
            "  warnings.warn(\n"
          ]
        },
        {
          "data": {
            "text/html": [
              "<pre style=\"white-space:pre;overflow-x:auto;line-height:normal;font-family:Menlo,'DejaVu Sans Mono',consolas,'Courier New',monospace\"><span style=\"font-weight: bold\">Model: \"sequential_5\"</span>\n",
              "</pre>\n"
            ],
            "text/plain": [
              "\u001b[1mModel: \"sequential_5\"\u001b[0m\n"
            ]
          },
          "metadata": {},
          "output_type": "display_data"
        },
        {
          "data": {
            "text/html": [
              "<pre style=\"white-space:pre;overflow-x:auto;line-height:normal;font-family:Menlo,'DejaVu Sans Mono',consolas,'Courier New',monospace\">┏━━━━━━━━━━━━━━━━━━━━━━━━━━━━━━━━━┳━━━━━━━━━━━━━━━━━━━━━━━━┳━━━━━━━━━━━━━━━┓\n",
              "┃<span style=\"font-weight: bold\"> Layer (type)                    </span>┃<span style=\"font-weight: bold\"> Output Shape           </span>┃<span style=\"font-weight: bold\">       Param # </span>┃\n",
              "┡━━━━━━━━━━━━━━━━━━━━━━━━━━━━━━━━━╇━━━━━━━━━━━━━━━━━━━━━━━━╇━━━━━━━━━━━━━━━┩\n",
              "│ embedding_1 (<span style=\"color: #0087ff; text-decoration-color: #0087ff\">Embedding</span>)         │ ?                      │   <span style=\"color: #00af00; text-decoration-color: #00af00\">0</span> (unbuilt) │\n",
              "├─────────────────────────────────┼────────────────────────┼───────────────┤\n",
              "│ flatten_1 (<span style=\"color: #0087ff; text-decoration-color: #0087ff\">Flatten</span>)             │ ?                      │   <span style=\"color: #00af00; text-decoration-color: #00af00\">0</span> (unbuilt) │\n",
              "├─────────────────────────────────┼────────────────────────┼───────────────┤\n",
              "│ dense_18 (<span style=\"color: #0087ff; text-decoration-color: #0087ff\">Dense</span>)                │ ?                      │   <span style=\"color: #00af00; text-decoration-color: #00af00\">0</span> (unbuilt) │\n",
              "├─────────────────────────────────┼────────────────────────┼───────────────┤\n",
              "│ dense_19 (<span style=\"color: #0087ff; text-decoration-color: #0087ff\">Dense</span>)                │ ?                      │   <span style=\"color: #00af00; text-decoration-color: #00af00\">0</span> (unbuilt) │\n",
              "└─────────────────────────────────┴────────────────────────┴───────────────┘\n",
              "</pre>\n"
            ],
            "text/plain": [
              "┏━━━━━━━━━━━━━━━━━━━━━━━━━━━━━━━━━┳━━━━━━━━━━━━━━━━━━━━━━━━┳━━━━━━━━━━━━━━━┓\n",
              "┃\u001b[1m \u001b[0m\u001b[1mLayer (type)                   \u001b[0m\u001b[1m \u001b[0m┃\u001b[1m \u001b[0m\u001b[1mOutput Shape          \u001b[0m\u001b[1m \u001b[0m┃\u001b[1m \u001b[0m\u001b[1m      Param #\u001b[0m\u001b[1m \u001b[0m┃\n",
              "┡━━━━━━━━━━━━━━━━━━━━━━━━━━━━━━━━━╇━━━━━━━━━━━━━━━━━━━━━━━━╇━━━━━━━━━━━━━━━┩\n",
              "│ embedding_1 (\u001b[38;5;33mEmbedding\u001b[0m)         │ ?                      │   \u001b[38;5;34m0\u001b[0m (unbuilt) │\n",
              "├─────────────────────────────────┼────────────────────────┼───────────────┤\n",
              "│ flatten_1 (\u001b[38;5;33mFlatten\u001b[0m)             │ ?                      │   \u001b[38;5;34m0\u001b[0m (unbuilt) │\n",
              "├─────────────────────────────────┼────────────────────────┼───────────────┤\n",
              "│ dense_18 (\u001b[38;5;33mDense\u001b[0m)                │ ?                      │   \u001b[38;5;34m0\u001b[0m (unbuilt) │\n",
              "├─────────────────────────────────┼────────────────────────┼───────────────┤\n",
              "│ dense_19 (\u001b[38;5;33mDense\u001b[0m)                │ ?                      │   \u001b[38;5;34m0\u001b[0m (unbuilt) │\n",
              "└─────────────────────────────────┴────────────────────────┴───────────────┘\n"
            ]
          },
          "metadata": {},
          "output_type": "display_data"
        },
        {
          "data": {
            "text/html": [
              "<pre style=\"white-space:pre;overflow-x:auto;line-height:normal;font-family:Menlo,'DejaVu Sans Mono',consolas,'Courier New',monospace\"><span style=\"font-weight: bold\"> Total params: </span><span style=\"color: #00af00; text-decoration-color: #00af00\">0</span> (0.00 B)\n",
              "</pre>\n"
            ],
            "text/plain": [
              "\u001b[1m Total params: \u001b[0m\u001b[38;5;34m0\u001b[0m (0.00 B)\n"
            ]
          },
          "metadata": {},
          "output_type": "display_data"
        },
        {
          "data": {
            "text/html": [
              "<pre style=\"white-space:pre;overflow-x:auto;line-height:normal;font-family:Menlo,'DejaVu Sans Mono',consolas,'Courier New',monospace\"><span style=\"font-weight: bold\"> Trainable params: </span><span style=\"color: #00af00; text-decoration-color: #00af00\">0</span> (0.00 B)\n",
              "</pre>\n"
            ],
            "text/plain": [
              "\u001b[1m Trainable params: \u001b[0m\u001b[38;5;34m0\u001b[0m (0.00 B)\n"
            ]
          },
          "metadata": {},
          "output_type": "display_data"
        },
        {
          "data": {
            "text/html": [
              "<pre style=\"white-space:pre;overflow-x:auto;line-height:normal;font-family:Menlo,'DejaVu Sans Mono',consolas,'Courier New',monospace\"><span style=\"font-weight: bold\"> Non-trainable params: </span><span style=\"color: #00af00; text-decoration-color: #00af00\">0</span> (0.00 B)\n",
              "</pre>\n"
            ],
            "text/plain": [
              "\u001b[1m Non-trainable params: \u001b[0m\u001b[38;5;34m0\u001b[0m (0.00 B)\n"
            ]
          },
          "metadata": {},
          "output_type": "display_data"
        }
      ],
      "source": [
        "from keras import layers\n",
        "\n",
        "embedding_dim = 200\n",
        "\n",
        "model_d = Sequential()\n",
        "model_d.add(layers.Embedding(input_dim=vocab_size,\n",
        "                           output_dim=embedding_dim,\n",
        "                           input_length=maxlen))\n",
        "model_d.add(layers.Flatten())\n",
        "model_d.add(Dense(50, activation='relu'))\n",
        "model_d.add(Dense(y.shape[1], activation='softmax'))\n",
        "\n",
        "model_d.compile(optimizer='adam',\n",
        "              loss='categorical_crossentropy',\n",
        "              metrics=[\"accuracy\"])\n",
        "\n",
        "model_d.summary()"
      ]
    },
    {
      "cell_type": "code",
      "execution_count": null,
      "metadata": {
        "id": "vDNDDDwZH45r"
      },
      "outputs": [],
      "source": [
        "X_train_full, X_test, y_train_full, y_test = train_test_split(X, y, test_size=0.4, random_state=52)\n",
        "X_train, X_valid, y_train, y_valid = train_test_split(X_train_full, y_train_full, test_size=0.4, random_state=52)"
      ]
    },
    {
      "cell_type": "code",
      "execution_count": null,
      "metadata": {
        "colab": {
          "background_save": true,
          "base_uri": "https://localhost:8080/"
        },
        "id": "cOrCW7nGH-OW",
        "outputId": "d8666c4b-ee7d-4181-f037-9db9ef7ed234"
      },
      "outputs": [
        {
          "name": "stdout",
          "output_type": "stream",
          "text": [
            "Epoch 1/5\n",
            "\u001b[1m1285/1285\u001b[0m \u001b[32m━━━━━━━━━━━━━━━━━━━━\u001b[0m\u001b[37m\u001b[0m \u001b[1m211s\u001b[0m 163ms/step - accuracy: 0.4857 - loss: 1.6166 - val_accuracy: 0.5208 - val_loss: 1.4666\n",
            "Epoch 2/5\n",
            "\u001b[1m1285/1285\u001b[0m \u001b[32m━━━━━━━━━━━━━━━━━━━━\u001b[0m\u001b[37m\u001b[0m \u001b[1m215s\u001b[0m 167ms/step - accuracy: 0.8816 - loss: 0.4954 - val_accuracy: 0.5086 - val_loss: 1.8288\n",
            "Epoch 3/5\n",
            "\u001b[1m1285/1285\u001b[0m \u001b[32m━━━━━━━━━━━━━━━━━━━━\u001b[0m\u001b[37m\u001b[0m \u001b[1m206s\u001b[0m 160ms/step - accuracy: 0.9461 - loss: 0.1984 - val_accuracy: 0.5186 - val_loss: 1.8768\n",
            "Epoch 4/5\n",
            "\u001b[1m1285/1285\u001b[0m \u001b[32m━━━━━━━━━━━━━━━━━━━━\u001b[0m\u001b[37m\u001b[0m \u001b[1m268s\u001b[0m 165ms/step - accuracy: 0.9521 - loss: 0.1252 - val_accuracy: 0.4686 - val_loss: 1.9992\n",
            "Epoch 5/5\n",
            "\u001b[1m1285/1285\u001b[0m \u001b[32m━━━━━━━━━━━━━━━━━━━━\u001b[0m\u001b[37m\u001b[0m \u001b[1m253s\u001b[0m 158ms/step - accuracy: 0.9497 - loss: 0.1375 - val_accuracy: 0.5174 - val_loss: 2.3036\n"
          ]
        }
      ],
      "source": [
        "history_d = model_d.fit(X_train, y_train, epochs = 5, batch_size = 7, validation_data = (X_valid,y_valid))"
      ]
    },
    {
      "cell_type": "code",
      "execution_count": null,
      "metadata": {
        "colab": {
          "base_uri": "https://localhost:8080/"
        },
        "id": "IjacfyeV0-Zn",
        "outputId": "581b2d8e-35a9-4c71-ab81-8bfb07101c91"
      },
      "outputs": [
        {
          "name": "stdout",
          "output_type": "stream",
          "text": [
            "\u001b[1m313/313\u001b[0m \u001b[32m━━━━━━━━━━━━━━━━━━━━\u001b[0m\u001b[37m\u001b[0m \u001b[1m3s\u001b[0m 11ms/step - accuracy: 0.4874 - loss: 2.2572\n",
            "0.48\n"
          ]
        }
      ],
      "source": [
        "acc = model_d.evaluate(X_test,y_test)\n",
        "print(np.array(acc)[1].round(2))"
      ]
    },
    {
      "cell_type": "code",
      "execution_count": null,
      "metadata": {
        "colab": {
          "base_uri": "https://localhost:8080/"
        },
        "id": "OCWxvRCB1K1k",
        "outputId": "c731d1f8-b1ea-4e5e-9f51-80923e0f6e72"
      },
      "outputs": [
        {
          "name": "stdout",
          "output_type": "stream",
          "text": [
            "\u001b[1m313/313\u001b[0m \u001b[32m━━━━━━━━━━━━━━━━━━━━\u001b[0m\u001b[37m\u001b[0m \u001b[1m3s\u001b[0m 10ms/step\n",
            "              precision    recall  f1-score   support\n",
            "\n",
            "           0       0.00      0.00      0.00        49\n",
            "           1       0.29      0.14      0.19       970\n",
            "           2       0.38      0.07      0.12        43\n",
            "           3       0.57      0.79      0.66      4931\n",
            "           4       0.25      0.11      0.15       687\n",
            "           5       0.19      0.06      0.10       374\n",
            "           6       0.55      0.15      0.24       236\n",
            "           7       0.20      0.23      0.21       903\n",
            "           8       0.42      0.26      0.32      1763\n",
            "           9       0.33      0.03      0.05        38\n",
            "\n",
            "    accuracy                           0.48      9994\n",
            "   macro avg       0.32      0.18      0.20      9994\n",
            "weighted avg       0.44      0.48      0.44      9994\n",
            "\n"
          ]
        }
      ],
      "source": [
        "y_pred = model_d.predict(X_test)\n",
        "y_pred = np.argmax(y_pred, axis=1)\n",
        "y_true = np.argmax(y_test, axis=1)\n",
        "\n",
        "print(classification_report(y_true, y_pred))"
      ]
    },
    {
      "cell_type": "code",
      "execution_count": null,
      "metadata": {
        "id": "JPGOmqCHocKU"
      },
      "outputs": [],
      "source": [
        "model_d.save('model_text.keras')"
      ]
    },
    {
      "cell_type": "code",
      "execution_count": null,
      "metadata": {
        "colab": {
          "base_uri": "https://localhost:8080/"
        },
        "id": "ID1IjkaCjr-a",
        "outputId": "2559e87f-877d-4121-f599-5994f5f8ace0"
      },
      "outputs": [
        {
          "data": {
            "text/plain": [
              "['label_encoder.joblib']"
            ]
          },
          "execution_count": 78,
          "metadata": {},
          "output_type": "execute_result"
        }
      ],
      "source": [
        "import joblib\n",
        "joblib.dump(model_d, 'model_text.joblib')\n",
        "joblib.dump(tokenizer, 'tokenizer.joblib')\n",
        "joblib.dump(label_encoder, 'label_encoder.joblib')"
      ]
    }
  ],
  "metadata": {
    "colab": {
      "provenance": []
    },
    "kernelspec": {
      "display_name": "Python 3",
      "name": "python3"
    },
    "language_info": {
      "name": "python"
    }
  },
  "nbformat": 4,
  "nbformat_minor": 0
}